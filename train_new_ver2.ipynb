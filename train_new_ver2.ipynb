{
 "cells": [
  {
   "cell_type": "code",
   "execution_count": 2,
   "id": "068ecee4-eb6e-447c-9775-bfadd6130d05",
   "metadata": {},
   "outputs": [
    {
     "name": "stdout",
     "output_type": "stream",
     "text": [
      "Jupyter environment detected. Enabling Open3D WebVisualizer.\n",
      "[Open3D INFO] WebRTC GUI backend enabled.\n",
      "[Open3D INFO] WebRTCWindowSystem: HTTP handshake server disabled.\n"
     ]
    }
   ],
   "source": [
    "import open3d as o3d\n",
    "from o3d_tools.visualize import PointCloudProject\n",
    "import numpy as np\n",
    "import pandas as pd\n",
    "from sklearn.model_selection import train_test_split\n",
    "import matplotlib.pyplot as plt\n",
    "import torch\n",
    "from torch_geometric.data import Data\n",
    "import torch_geometric.transforms as T\n",
    "from torch_geometric.data import Dataset, DataLoader\n",
    "import torch_cluster\n",
    "import torch.nn.functional as F\n",
    "from torch_geometric.nn import DynamicEdgeConv, global_max_pool\n",
    "import torch.optim as optim"
   ]
  },
  {
   "cell_type": "code",
   "execution_count": 3,
   "id": "458b921e-d82b-4499-bb7a-6e0f617a67da",
   "metadata": {},
   "outputs": [],
   "source": [
    "project1 = PointCloudProject(project='Project1') ; project2 = PointCloudProject(project='Project2')\n",
    "project3 = PointCloudProject(project='Project3') ; project4 = PointCloudProject(project='Project4')"
   ]
  },
  {
   "cell_type": "markdown",
   "id": "895c73d7-2f03-4669-9648-2af90ae31edb",
   "metadata": {},
   "source": [
    "### Preprocess data"
   ]
  },
  {
   "cell_type": "code",
   "execution_count": 4,
   "id": "62cbca42-3188-4da2-8cfa-cc5bfe108e05",
   "metadata": {},
   "outputs": [],
   "source": [
    "def read_and_preprocess_data():\n",
    "\n",
    "    objs1 = project1.objects_df\n",
    "\n",
    "    print(f\"Types of objects in Project 1: {list(objs1.keys())}\")\n",
    "    pipes1 = objs1[\"Pipe\"]\n",
    "    scbs1 = objs1[\"Structural_ColumnBeam\"]\n",
    "    sibs1 = objs1[\"Structural_IBeam\"]\n",
    "    hvducts = objs1[\"HVAC_Duct\"]\n",
    "\n",
    "    objs2 = project2.objects_df\n",
    "\n",
    "    print(f\"Types of objects in Project 2: {list(objs2.keys())}\")\n",
    "    pipes2 = objs2[\"Pipe\"]\n",
    "    scbs2 = objs2[\"Structural_ColumnBeam\"]\n",
    "    sibs2 = objs2[\"Structural_IBeam\"]\n",
    "\n",
    "    objs3 = project3.objects_df\n",
    "\n",
    "    print(f\"Types of objects in Project 3: {list(objs3.keys())}\")\n",
    "    scbs3 = objs3[\"Structural_ColumnBeam\"]\n",
    "\n",
    "    objs4 = project4.objects_df\n",
    "\n",
    "    print(f\"Types of objects in Project 4: {list(objs4.keys())}\")\n",
    "    sibs4 = objs4[\"Structural_IBeam\"]\n",
    "\n",
    "\n",
    "    boxes1 = pd.concat([scbs1, hvducts, pipes1, sibs1])\n",
    "    boxes2 = pd.concat([scbs2, pipes2, sibs2])\n",
    "    boxes3 = scbs3\n",
    "    boxes4 = sibs4\n",
    "\n",
    "    boxes = [boxes1, boxes2, boxes3, boxes4]\n",
    "\n",
    "    for i in range(len(boxes)):\n",
    "        boxes[i].rename(columns={\" Label\": \"label\", \" BB.Min.X \" : \"min_x\", \" BB.Min.Y \" : \"min_y\", \" BB.Min.Z \" : \"min_z\",\n",
    "                             \" BB.Max.X \" : \"max_x\", \" BB.Max.Y \" : \"max_y\", \" BB.Max.Z\" : \"max_z\"}, inplace=True)\n",
    "\n",
    "    box_data = pd.concat(boxes)\n",
    "\n",
    "    ids_to_points = {}\n",
    "\n",
    "    projects = [project1, project2, project3, project4]\n",
    "\n",
    "    for proj_id, box in enumerate(boxes):\n",
    "\n",
    "        for i, ID in enumerate(box[\"ID\"]):\n",
    "\n",
    "            proj = projects[proj_id]\n",
    "\n",
    "            # .pcd.crop() method expects this bounding box object, create it from the raw min max values\n",
    "            bb = o3d.geometry.AxisAlignedBoundingBox((box[[\"min_x\", \"min_y\", \"min_z\"]].iloc[i]).to_numpy(), \n",
    "                                        (box[[\"max_x\", \"max_y\", \"max_z\"]].iloc[i]).to_numpy())\n",
    "\n",
    "            points_of_id = proj.pcd.crop(bb)\n",
    "\n",
    "            # convert the pointcloud object into a numpy array\n",
    "            # join coordinates and color data into a single 6d nparray for each point\n",
    "\n",
    "            points_coords = np.asarray(points_of_id.points)\n",
    "\n",
    "            tmp = np.asarray(points_of_id.colors)[:,0]\n",
    "\n",
    "            points_colors = (np.asarray(points_of_id.colors)[:,0]).reshape(-1,1)\n",
    "\n",
    "            points_arr = np.concatenate((points_coords, points_colors), axis = 1)\n",
    "\n",
    "            ids_to_points[ID] = points_arr\n",
    "\n",
    "    def sample_point_cloud(points, num_points):\n",
    "\n",
    "        if points.shape[0] > num_points:\n",
    "\n",
    "            # Downsample if the point cloud has more points than needed\n",
    "            idx = np.random.choice(points.shape[0], num_points, replace=False)\n",
    "            return points[idx, :]\n",
    "\n",
    "        elif points.shape[0] < num_points:\n",
    "            # Upsample by repeating random points if the point cloud has fewer points than needed\n",
    "            idx = np.random.choice(points.shape[0], num_points - points.shape[0], replace=True)\n",
    "            return np.concatenate([points, points[idx, :]], axis=0)\n",
    "\n",
    "        else:\n",
    "            # Return the point cloud as is if it already has the correct number of points\n",
    "            return points\n",
    "\n",
    "    fixed_num_points = 2048  # The fixed number of points for all point clouds\n",
    "\n",
    "    point_clouds_resampled = {}\n",
    "\n",
    "    for obj_id in ids_to_points.keys():\n",
    "\n",
    "        point_cloud = ids_to_points[obj_id]\n",
    "        resampled_points = sample_point_cloud(point_cloud, fixed_num_points)\n",
    "        point_clouds_resampled[obj_id] = resampled_points\n",
    "        \n",
    "    def extract_bounding_box_features(min_x, max_x, min_y, max_y, min_z, max_z):\n",
    "    \n",
    "        centroid = [(min_x + max_x) / 2, (min_y + max_y) / 2, (min_z + max_z) / 2]\n",
    "        size = [max_x - min_x, max_y - min_y, max_z - min_z]\n",
    "        volume = size[0] * size[1] * size[2]\n",
    "        \n",
    "        return np.array(centroid + size + [volume])\n",
    "    \n",
    "    data = []\n",
    "    for i in range(box_data.shape[0]):\n",
    "\n",
    "        box = box_data.iloc[i]\n",
    "        features = extract_bounding_box_features(box[\"min_x\"], box[\"max_x\"], box[\"min_y\"],\n",
    "                                                 box[\"max_y\"], box[\"min_z\"], box[\"max_z\"])\n",
    "\n",
    "        data.append(features)\n",
    "\n",
    "    feature_df = pd.DataFrame(data, columns=[\"cx\", \"cy\", \"cz\", \"sx\", \"sy\", \"sz\", \"vol\"])\n",
    "    \n",
    "    box_data = box_data.reset_index(drop=True)\n",
    "    \n",
    "    new_box_data = pd.concat([box_data, feature_df], axis=1)\n",
    "    \n",
    "    return point_clouds_resampled, new_box_data"
   ]
  },
  {
   "cell_type": "code",
   "execution_count": 5,
   "id": "6b519db1-06dd-4708-b9c0-ff9459f9083a",
   "metadata": {},
   "outputs": [
    {
     "name": "stdout",
     "output_type": "stream",
     "text": [
      "Types of objects in Project 1: ['Structural_ColumnBeam', 'HVAC_Duct', 'Pipe', 'Structural_IBeam']\n",
      "Types of objects in Project 2: ['Structural_ColumnBeam', 'Pipe', 'Structural_IBeam']\n",
      "Types of objects in Project 3: ['Structural_ColumnBeam']\n",
      "Types of objects in Project 4: ['Structural_IBeam']\n"
     ]
    }
   ],
   "source": [
    "points_dict, box_data = read_and_preprocess_data()"
   ]
  },
  {
   "cell_type": "markdown",
   "id": "99ef9dda-8a9e-4ba6-9532-9562159053b9",
   "metadata": {},
   "source": [
    "### Split into train val test"
   ]
  },
  {
   "cell_type": "code",
   "execution_count": 6,
   "id": "4de6037a-d017-4f84-9062-554625065933",
   "metadata": {},
   "outputs": [],
   "source": [
    "y = box_data[\"label\"]\n",
    "X = box_data[[\"ID\", \"min_x\", \"min_y\", \"min_z\", \"max_x\", \"max_y\", \"max_z\", \"cx\", \"cy\", \"cz\", \"sx\", \"sy\", \"sz\", \"vol\"]]\n",
    "\n",
    "X_train, X_temp, y_train, y_temp = train_test_split(X, y, test_size=0.4, stratify=y, random_state=42)\n",
    "X_val, X_test, y_val, y_test = train_test_split(X_temp, y_temp, test_size=0.5, stratify=y_temp, random_state=42)"
   ]
  },
  {
   "cell_type": "markdown",
   "id": "42903969-615b-4a76-810e-40a34a1042f5",
   "metadata": {},
   "source": [
    "### Encode labels as integers"
   ]
  },
  {
   "cell_type": "code",
   "execution_count": 7,
   "id": "0fdf4713-ea9d-468a-a08a-772a6cf5e4f6",
   "metadata": {},
   "outputs": [],
   "source": [
    "label_mapping = {\n",
    "    'Structural_ColumnBeam': 0,\n",
    "    'HVAC_Duct': 1,\n",
    "    'Pipe': 2,\n",
    "    'Structural_IBeam': 3\n",
    "}\n",
    "\n",
    "labels_enc = []\n",
    "for row in box_data[\"label\"]:\n",
    "\n",
    "    labels_enc.append(label_mapping[row])"
   ]
  },
  {
   "cell_type": "code",
   "execution_count": 8,
   "id": "eba198be-d81f-4313-b25a-ac4a9329a188",
   "metadata": {},
   "outputs": [],
   "source": [
    "box_data[\"label_enc\"] = labels_enc"
   ]
  },
  {
   "cell_type": "markdown",
   "id": "423dda41-947b-4f24-9bec-eb53631b84a4",
   "metadata": {},
   "source": [
    "### Create data object and graph features"
   ]
  },
  {
   "cell_type": "code",
   "execution_count": 9,
   "id": "27fff041-b14c-4dba-89ca-2c907b8278e3",
   "metadata": {},
   "outputs": [],
   "source": [
    "def create_point_cloud_data(points, bounding_box_features, labels):\n",
    "    \n",
    "    # Points is of shape [2048, 3] (x, y, z coordinates)\n",
    "    # Grayscale intensity is of shape [2048, 1] \n",
    "    # Labels are the classification targets for each bounding box\n",
    "\n",
    "    x = torch.tensor(points, dtype=torch.float)  # Point cloud coordinates\n",
    "    #print(x)\n",
    "    #print(x.shape)\n",
    "\n",
    "    # Create an edge index using k-nearest neighbors (or some method to define neighbors)\n",
    "    edge_index = T.KNNGraph(k=16)(Data(pos=x)).edge_index  # Edge index for the graph\n",
    "\n",
    "    bounding_box_features = torch.tensor(bounding_box_features, dtype=torch.float)\n",
    "\n",
    "    # Create the Data object\n",
    "    data = Data(x=x, edge_index=edge_index, y=torch.tensor(labels, dtype=torch.long), bbox_features=bounding_box_features)\n",
    "\n",
    "    return data"
   ]
  },
  {
   "cell_type": "code",
   "execution_count": 10,
   "id": "daaeda67-95f3-41df-b216-38d1c18dcf2d",
   "metadata": {},
   "outputs": [],
   "source": [
    "graph_dict = {}\n",
    "features_list = [\"cx\", \"cy\", \"cz\", \"sx\", \"sy\", \"sz\", \"vol\"]\n",
    "\n",
    "for obj_id in points_dict.keys():\n",
    "\n",
    "    curr_label = ((box_data[box_data[\"ID\"] == obj_id].iloc[:,15]).to_numpy()).reshape(1)\n",
    "    curr_features = ((box_data[box_data[\"ID\"] == obj_id].loc[:,features_list]).to_numpy()).reshape(7)\n",
    "    \n",
    "    graph_dict[obj_id] = create_point_cloud_data(points_dict[obj_id], curr_features, curr_label)\n"
   ]
  },
  {
   "cell_type": "code",
   "execution_count": 16,
   "id": "90e9f4ed-603b-4856-8855-13e8c34ad9aa",
   "metadata": {},
   "outputs": [
    {
     "name": "stdout",
     "output_type": "stream",
     "text": [
      "{'d442ca7c-770d-4bc2-a565-81b971e1b3b3': Data(x=[2048, 4], edge_index=[2, 32768], y=[1], bbox_features=[7]), 'de9a038a-e106-48fa-ac76-3f83dfa1503a': Data(x=[2048, 4], edge_index=[2, 32768], y=[1], bbox_features=[7]), 'b351dae6-0cf2-45f2-bbfd-ab9e607bce0d': Data(x=[2048, 4], edge_index=[2, 32768], y=[1], bbox_features=[7]), '62e75328-ddda-48d4-87c4-210afb055eb5': Data(x=[2048, 4], edge_index=[2, 32768], y=[1], bbox_features=[7]), '64ca25ff-ebc8-4e83-9585-756d6b711a3c': Data(x=[2048, 4], edge_index=[2, 32768], y=[1], bbox_features=[7]), '7296381a-9ab0-405c-85f7-89ea5e1aa903': Data(x=[2048, 4], edge_index=[2, 32768], y=[1], bbox_features=[7]), 'f2990cfa-4762-42ae-9930-5b097771c5c7': Data(x=[2048, 4], edge_index=[2, 32768], y=[1], bbox_features=[7]), '537952e4-2ef2-45c6-b164-e975ccfd6c87': Data(x=[2048, 4], edge_index=[2, 32768], y=[1], bbox_features=[7]), '52fbd341-ae6d-4c61-be37-32e05953cf86': Data(x=[2048, 4], edge_index=[2, 32768], y=[1], bbox_features=[7]), '8f378c1e-f586-4da8-8440-8880948aa0cd': Data(x=[2048, 4], edge_index=[2, 32768], y=[1], bbox_features=[7]), 'e67fff96-93ba-4796-90ce-34620aff4f4a': Data(x=[2048, 4], edge_index=[2, 32768], y=[1], bbox_features=[7]), '70b5ca39-666f-4ae5-9a64-8b6081c8e2ce': Data(x=[2048, 4], edge_index=[2, 32768], y=[1], bbox_features=[7]), 'bd4cc9ad-cd0c-4956-87be-a72084249bf9': Data(x=[2048, 4], edge_index=[2, 32768], y=[1], bbox_features=[7]), 'f7849e79-f347-429d-b0e2-0ef3950ae5e8': Data(x=[2048, 4], edge_index=[2, 32768], y=[1], bbox_features=[7]), '2415192b-829b-433a-a99e-37fe0f0ca058': Data(x=[2048, 4], edge_index=[2, 32768], y=[1], bbox_features=[7]), '7a1a3baa-5bea-48ab-9220-40eb561916f2': Data(x=[2048, 4], edge_index=[2, 32768], y=[1], bbox_features=[7]), '274f563c-c2ec-4611-a848-b8cba66bc303': Data(x=[2048, 4], edge_index=[2, 32768], y=[1], bbox_features=[7]), '1246b8e8-dcb6-4066-8c8c-92b014a1d3ce': Data(x=[2048, 4], edge_index=[2, 32768], y=[1], bbox_features=[7]), '4b3af85f-9310-41b0-9248-87a5b68f1bdf': Data(x=[2048, 4], edge_index=[2, 32768], y=[1], bbox_features=[7]), '5b49ef94-9baa-40b5-971c-ea6c0d983d99': Data(x=[2048, 4], edge_index=[2, 32768], y=[1], bbox_features=[7]), '4d607eda-df93-406e-8b6c-dad12c83b232': Data(x=[2048, 4], edge_index=[2, 32768], y=[1], bbox_features=[7]), '6144e713-81de-428e-9583-6557a97da649': Data(x=[2048, 4], edge_index=[2, 32768], y=[1], bbox_features=[7]), 'ddae7b02-9cbe-4fcd-8948-43c2d5d60b0e': Data(x=[2048, 4], edge_index=[2, 32768], y=[1], bbox_features=[7]), '63823dc5-5fc1-4aa4-bd71-4baf54737920': Data(x=[2048, 4], edge_index=[2, 32768], y=[1], bbox_features=[7]), '604aa493-11d2-4dd3-8ddc-773acfd11167': Data(x=[2048, 4], edge_index=[2, 32768], y=[1], bbox_features=[7]), 'c086b354-ee21-4219-914e-42e1f9a7e584': Data(x=[2048, 4], edge_index=[2, 32768], y=[1], bbox_features=[7]), 'c9d85e88-6af5-4927-a7bd-0ea268fc0bfc': Data(x=[2048, 4], edge_index=[2, 32768], y=[1], bbox_features=[7]), '0ee2aff0-a510-4979-a877-ff8839d43b53': Data(x=[2048, 4], edge_index=[2, 32768], y=[1], bbox_features=[7]), 'c09cffb3-c6df-47f3-927d-533289b2349e': Data(x=[2048, 4], edge_index=[2, 32768], y=[1], bbox_features=[7]), '0764ba93-5aeb-488a-9f49-3e39905f29af': Data(x=[2048, 4], edge_index=[2, 32768], y=[1], bbox_features=[7]), '39c37656-df1e-45e4-9433-c3859a944287': Data(x=[2048, 4], edge_index=[2, 32768], y=[1], bbox_features=[7]), '61c306ff-dd2b-4801-9485-ad70f2e287c3': Data(x=[2048, 4], edge_index=[2, 32768], y=[1], bbox_features=[7]), 'ea3bb563-19f5-4260-9315-e872d9c1f432': Data(x=[2048, 4], edge_index=[2, 32768], y=[1], bbox_features=[7]), '95a0f1ac-79dc-44a6-8fa9-ddd5489d1410': Data(x=[2048, 4], edge_index=[2, 32768], y=[1], bbox_features=[7]), 'b64f328c-b7ca-4af9-857c-5aebb483ac24': Data(x=[2048, 4], edge_index=[2, 32768], y=[1], bbox_features=[7]), '9db87722-0f87-466d-acdc-7ed042690d66': Data(x=[2048, 4], edge_index=[2, 32768], y=[1], bbox_features=[7]), 'fa7d7a21-bf66-41b6-9877-0b26f756cdfc': Data(x=[2048, 4], edge_index=[2, 32768], y=[1], bbox_features=[7]), 'b6bf78ab-f65b-4b51-8cc9-93733e85d338': Data(x=[2048, 4], edge_index=[2, 32768], y=[1], bbox_features=[7]), '2891ff44-45e2-4a2e-9fe5-f85bb0182558': Data(x=[2048, 4], edge_index=[2, 32768], y=[1], bbox_features=[7]), 'ec7cc752-4e3f-4d21-b1bc-1f2f4f5b8240': Data(x=[2048, 4], edge_index=[2, 32768], y=[1], bbox_features=[7]), 'c9e5f5f4-b729-4192-b0f5-63d80a2c2e77': Data(x=[2048, 4], edge_index=[2, 32768], y=[1], bbox_features=[7]), '3f961d67-a7a5-40eb-8b7e-60ce69d2fb43': Data(x=[2048, 4], edge_index=[2, 32768], y=[1], bbox_features=[7]), '718e5719-b651-449a-a40a-e2a262abfa29': Data(x=[2048, 4], edge_index=[2, 32768], y=[1], bbox_features=[7]), 'fe20e390-249e-4dfe-a624-b929005c150d': Data(x=[2048, 4], edge_index=[2, 32768], y=[1], bbox_features=[7]), 'b8b38c44-2f62-48d5-ad8a-48d667f577e8': Data(x=[2048, 4], edge_index=[2, 32768], y=[1], bbox_features=[7]), '33fb3883-bc5c-4dce-921a-149633c6af1f': Data(x=[2048, 4], edge_index=[2, 32768], y=[1], bbox_features=[7]), '86f8c6b5-24e8-4d73-9f48-723591ee0f55': Data(x=[2048, 4], edge_index=[2, 32768], y=[1], bbox_features=[7]), '5aaf0277-3886-474a-84c7-445a9f04a16a': Data(x=[2048, 4], edge_index=[2, 32768], y=[1], bbox_features=[7]), 'b469889f-3aec-4a2e-a256-cbf7a1a3481e': Data(x=[2048, 4], edge_index=[2, 32768], y=[1], bbox_features=[7]), '7d40f84c-542d-423a-be0c-d0b013c58bb6': Data(x=[2048, 4], edge_index=[2, 32768], y=[1], bbox_features=[7]), 'a064e314-a65f-4ccf-a1d1-836670df3094': Data(x=[2048, 4], edge_index=[2, 32768], y=[1], bbox_features=[7]), 'f3ecda55-5c6c-4664-a83a-c149a50d71fc': Data(x=[2048, 4], edge_index=[2, 32768], y=[1], bbox_features=[7]), '0ae20593-998e-43be-94cb-e902f1185f8f': Data(x=[2048, 4], edge_index=[2, 32768], y=[1], bbox_features=[7]), 'b2c38994-2e1a-4fa8-bba5-17a5d814b848': Data(x=[2048, 4], edge_index=[2, 32768], y=[1], bbox_features=[7]), '7346334f-2ad5-45d1-bbd7-fd19c4839ce7': Data(x=[2048, 4], edge_index=[2, 32768], y=[1], bbox_features=[7]), 'c1777ff2-fd50-4b40-880c-d42c2b542214': Data(x=[2048, 4], edge_index=[2, 32768], y=[1], bbox_features=[7]), 'dd292651-f9b1-4913-bf0a-b092cb2da485': Data(x=[2048, 4], edge_index=[2, 32768], y=[1], bbox_features=[7]), '1ebc8a18-ebb1-4a2a-88e0-1ae11f4cf583': Data(x=[2048, 4], edge_index=[2, 32768], y=[1], bbox_features=[7]), '82fa440a-f35d-4a1d-9b6c-7eabaa26f143': Data(x=[2048, 4], edge_index=[2, 32768], y=[1], bbox_features=[7]), '15bb308c-2ff8-4259-b7fd-62a0e8d22a89': Data(x=[2048, 4], edge_index=[2, 32768], y=[1], bbox_features=[7]), 'ea588168-3f23-48ff-a9ac-f30cd599791d': Data(x=[2048, 4], edge_index=[2, 32768], y=[1], bbox_features=[7]), 'd2f5e63f-93b4-4430-9fdb-c337671b6731': Data(x=[2048, 4], edge_index=[2, 32768], y=[1], bbox_features=[7]), '3231af78-6519-4b46-8cd2-316733f0c8c8': Data(x=[2048, 4], edge_index=[2, 32768], y=[1], bbox_features=[7]), '9edce6ef-02e5-43a9-b45e-c0efe145e32d': Data(x=[2048, 4], edge_index=[2, 32768], y=[1], bbox_features=[7]), '03542d13-bd2f-4e56-8f17-b418695b3402': Data(x=[2048, 4], edge_index=[2, 32768], y=[1], bbox_features=[7]), 'becfdbfc-71c7-4336-ba3f-e254d2854460': Data(x=[2048, 4], edge_index=[2, 32768], y=[1], bbox_features=[7]), 'b5ba0327-4a84-45cb-bc16-5fc934af5035': Data(x=[2048, 4], edge_index=[2, 32768], y=[1], bbox_features=[7]), 'dc02a5b7-9734-4cb2-9904-9084d38646c9': Data(x=[2048, 4], edge_index=[2, 32768], y=[1], bbox_features=[7]), 'bafe601c-8e9a-442f-a561-b188b037a9e0': Data(x=[2048, 4], edge_index=[2, 32768], y=[1], bbox_features=[7]), '88848432-5841-4e55-a0bf-e9c164d727df': Data(x=[2048, 4], edge_index=[2, 32768], y=[1], bbox_features=[7]), '5b8f0647-2f00-44f0-8953-2935cf8d05ad': Data(x=[2048, 4], edge_index=[2, 32768], y=[1], bbox_features=[7]), '80f31752-fe51-4ad0-882a-eedd4b3d4ef0': Data(x=[2048, 4], edge_index=[2, 32768], y=[1], bbox_features=[7]), 'b687b8e1-da80-48c5-acdd-315e9070ce35': Data(x=[2048, 4], edge_index=[2, 32768], y=[1], bbox_features=[7]), '5a5fa404-2df3-49cc-b4c4-bac5d95ec587': Data(x=[2048, 4], edge_index=[2, 32768], y=[1], bbox_features=[7]), '7ccc1836-f119-4882-b189-8c84110f75d0': Data(x=[2048, 4], edge_index=[2, 32768], y=[1], bbox_features=[7]), '2a8996a5-5f67-4036-8c29-b699b9ecea0d': Data(x=[2048, 4], edge_index=[2, 32768], y=[1], bbox_features=[7]), '45557bd3-0668-4ce9-a832-63736281f4cc': Data(x=[2048, 4], edge_index=[2, 32768], y=[1], bbox_features=[7]), '35c48b35-4cca-45be-9451-a757629a9c3f': Data(x=[2048, 4], edge_index=[2, 32768], y=[1], bbox_features=[7]), '82329065-2e17-4808-85d7-ceb7bbf82209': Data(x=[2048, 4], edge_index=[2, 32768], y=[1], bbox_features=[7]), '4163a59b-36f3-44a7-a77f-20f3b96cc3ed': Data(x=[2048, 4], edge_index=[2, 32768], y=[1], bbox_features=[7]), '5375cc03-28fe-432c-908a-5137b84502de': Data(x=[2048, 4], edge_index=[2, 32768], y=[1], bbox_features=[7]), '62ed7cd0-481a-47a7-9fef-120c01a3a75c': Data(x=[2048, 4], edge_index=[2, 32768], y=[1], bbox_features=[7]), '7389d0c1-c9e3-42fe-a191-0fed77c08f3b': Data(x=[2048, 4], edge_index=[2, 32768], y=[1], bbox_features=[7]), 'c1553249-896e-47b8-8d36-c2478f88c5d1': Data(x=[2048, 4], edge_index=[2, 32768], y=[1], bbox_features=[7]), '5fcaf05f-bf0f-4dc9-9154-4fca046a1268': Data(x=[2048, 4], edge_index=[2, 32768], y=[1], bbox_features=[7]), '75f4e110-d261-4d94-b1e8-86e6f133bfbe': Data(x=[2048, 4], edge_index=[2, 32768], y=[1], bbox_features=[7]), 'a5377f0e-516f-4082-afb2-f96875f3dfdb': Data(x=[2048, 4], edge_index=[2, 32768], y=[1], bbox_features=[7]), 'eef686c2-a29b-4043-8e9c-0b041e338f73': Data(x=[2048, 4], edge_index=[2, 32768], y=[1], bbox_features=[7]), '509dd87b-183b-4b03-9611-9866ee3227ea': Data(x=[2048, 4], edge_index=[2, 32768], y=[1], bbox_features=[7]), '2c808fd0-f165-4441-944b-d29867dccc6b': Data(x=[2048, 4], edge_index=[2, 32768], y=[1], bbox_features=[7]), 'cace8e72-ce54-48fc-898b-b96b857e96c7': Data(x=[2048, 4], edge_index=[2, 32768], y=[1], bbox_features=[7]), 'a019e108-4d6b-4f1a-9b07-d98b62c166cb': Data(x=[2048, 4], edge_index=[2, 32768], y=[1], bbox_features=[7]), '2babdfe0-5c1a-499c-afdc-1951dde834fe': Data(x=[2048, 4], edge_index=[2, 32768], y=[1], bbox_features=[7]), '3b3bc139-49af-4e95-a7e6-6c3a0ed1407a': Data(x=[2048, 4], edge_index=[2, 32768], y=[1], bbox_features=[7]), 'b620c765-623e-42e9-b27c-b2cf0b1427e3': Data(x=[2048, 4], edge_index=[2, 32768], y=[1], bbox_features=[7]), 'e1379018-1d1d-4f78-8029-f419ce59f6a0': Data(x=[2048, 4], edge_index=[2, 32768], y=[1], bbox_features=[7]), 'dc2740ac-0504-4b8f-9fdd-63e982cabb5a': Data(x=[2048, 4], edge_index=[2, 32768], y=[1], bbox_features=[7]), '1c271ec9-cdd2-4d32-a0c9-7523606b81dc': Data(x=[2048, 4], edge_index=[2, 32768], y=[1], bbox_features=[7]), '9cc04f4c-da70-4b85-a0cb-a9f50143df1f': Data(x=[2048, 4], edge_index=[2, 32768], y=[1], bbox_features=[7]), '5ad696c3-360a-4849-b755-09ee28aa46b9': Data(x=[2048, 4], edge_index=[2, 32768], y=[1], bbox_features=[7]), 'fedd33bb-ffa1-41a2-961d-8f5a616858dd': Data(x=[2048, 4], edge_index=[2, 32768], y=[1], bbox_features=[7]), '5a0ade28-339b-4c0f-9db5-2fbfc6176311': Data(x=[2048, 4], edge_index=[2, 32768], y=[1], bbox_features=[7]), '682a8a36-ab65-4f95-bd15-4e877ffd24e7': Data(x=[2048, 4], edge_index=[2, 32768], y=[1], bbox_features=[7]), '2d5cc479-16fd-4343-accf-a8f1abb6baac': Data(x=[2048, 4], edge_index=[2, 32768], y=[1], bbox_features=[7]), 'bf267cbf-9d55-4dbd-a49a-d1dc8fb984b7': Data(x=[2048, 4], edge_index=[2, 32768], y=[1], bbox_features=[7]), 'a2a57c8c-d552-4aaa-a819-79cd98cfeada': Data(x=[2048, 4], edge_index=[2, 32768], y=[1], bbox_features=[7]), '1d57dde7-592f-45ec-9635-f17541333f3c': Data(x=[2048, 4], edge_index=[2, 32768], y=[1], bbox_features=[7]), 'cbe28da9-427b-4393-bb43-a328dd9ceceb': Data(x=[2048, 4], edge_index=[2, 32768], y=[1], bbox_features=[7]), '732b7598-dc27-4623-8848-85f8c5b375b8': Data(x=[2048, 4], edge_index=[2, 32768], y=[1], bbox_features=[7]), '24e90ac9-afcb-42bd-b11c-9c1849c21dcd': Data(x=[2048, 4], edge_index=[2, 32768], y=[1], bbox_features=[7]), '6927d156-9bc3-480a-8c21-2dfa7418029a': Data(x=[2048, 4], edge_index=[2, 32768], y=[1], bbox_features=[7]), 'a064e53d-5639-4a8a-b3a7-115b512a929a': Data(x=[2048, 4], edge_index=[2, 32768], y=[1], bbox_features=[7]), '74c9c29e-ec97-4a16-9731-b07836df1b55': Data(x=[2048, 4], edge_index=[2, 32768], y=[1], bbox_features=[7]), '1db80c83-2846-4ffd-b86e-800ea02a18c5': Data(x=[2048, 4], edge_index=[2, 32768], y=[1], bbox_features=[7]), '8001a7e8-52dd-4777-acb5-37f4182b4ec6': Data(x=[2048, 4], edge_index=[2, 32768], y=[1], bbox_features=[7]), '03c9804b-7404-47f4-ba7b-fe286ed64407': Data(x=[2048, 4], edge_index=[2, 32768], y=[1], bbox_features=[7]), '6bf6d092-6bc6-4dcd-930b-90fdc3a07ed7': Data(x=[2048, 4], edge_index=[2, 32768], y=[1], bbox_features=[7]), 'afbce5d6-7593-4024-82f4-d75fdb5aefd0': Data(x=[2048, 4], edge_index=[2, 32768], y=[1], bbox_features=[7]), 'bce3a68d-4cee-46d0-b11b-8ff6e5467f1b': Data(x=[2048, 4], edge_index=[2, 32768], y=[1], bbox_features=[7]), 'ede0558e-5197-4c2d-8905-960afea66515': Data(x=[2048, 4], edge_index=[2, 32768], y=[1], bbox_features=[7]), '7c099663-2abf-4247-bbe9-31eb1df2f677': Data(x=[2048, 4], edge_index=[2, 32768], y=[1], bbox_features=[7]), '47649ed1-d79b-420d-a389-99c21be6ffa9': Data(x=[2048, 4], edge_index=[2, 32768], y=[1], bbox_features=[7]), 'ec73bcb8-b367-442e-9f33-5a3dadbd75ff': Data(x=[2048, 4], edge_index=[2, 32768], y=[1], bbox_features=[7]), '83934727-dda9-4016-ae36-21e6a1ce6f54': Data(x=[2048, 4], edge_index=[2, 32768], y=[1], bbox_features=[7]), 'd365aeeb-6dbd-48a5-aa98-f6f584781ffc': Data(x=[2048, 4], edge_index=[2, 32768], y=[1], bbox_features=[7]), '17357b1c-5fd0-4a40-bb8c-6e14a6f4a098': Data(x=[2048, 4], edge_index=[2, 32768], y=[1], bbox_features=[7]), '0d6c3117-c063-4756-8ab3-11b6c7889c57': Data(x=[2048, 4], edge_index=[2, 32768], y=[1], bbox_features=[7]), 'e6c9bb71-410a-4f12-a212-9408a9a3a112': Data(x=[2048, 4], edge_index=[2, 32768], y=[1], bbox_features=[7]), 'aa219321-9924-4c68-a77e-ac5c2630c3dc': Data(x=[2048, 4], edge_index=[2, 32768], y=[1], bbox_features=[7]), '4c60fda4-8017-449e-a044-639b59d9f582': Data(x=[2048, 4], edge_index=[2, 32768], y=[1], bbox_features=[7]), 'bece4f33-708f-41e0-945a-bebd5faf3780': Data(x=[2048, 4], edge_index=[2, 32768], y=[1], bbox_features=[7]), 'bede9ef1-8892-4e14-9562-9a1d9edf1fba': Data(x=[2048, 4], edge_index=[2, 32768], y=[1], bbox_features=[7]), '455ab411-f8ab-4b81-be22-348fcef9f650': Data(x=[2048, 4], edge_index=[2, 32768], y=[1], bbox_features=[7]), '42b4e530-0f7a-437a-8b70-ed61c4a5fb58': Data(x=[2048, 4], edge_index=[2, 32768], y=[1], bbox_features=[7]), 'b1fddfd2-e647-46af-80a5-76cda067bc1c': Data(x=[2048, 4], edge_index=[2, 32768], y=[1], bbox_features=[7]), 'd729ea09-00e5-483e-b965-c08ef0fee63c': Data(x=[2048, 4], edge_index=[2, 32768], y=[1], bbox_features=[7]), 'a43e6b36-a569-425d-9bc6-4ad67ba1e115': Data(x=[2048, 4], edge_index=[2, 32768], y=[1], bbox_features=[7]), '07bd646f-debd-4a04-8b2b-88b0728ca2c8': Data(x=[2048, 4], edge_index=[2, 32768], y=[1], bbox_features=[7]), 'a5866a36-09ce-4344-9839-19e586a69695': Data(x=[2048, 4], edge_index=[2, 32768], y=[1], bbox_features=[7]), 'ae48ecf7-8f6d-48ed-a82e-e9eb44c6e014': Data(x=[2048, 4], edge_index=[2, 32768], y=[1], bbox_features=[7]), '942cb5f9-7ff3-4674-9ab3-49e800ccc596': Data(x=[2048, 4], edge_index=[2, 32768], y=[1], bbox_features=[7]), '65788544-3d9b-40db-9ce3-9af6b0bec51b': Data(x=[2048, 4], edge_index=[2, 32768], y=[1], bbox_features=[7]), 'eb244299-7cb4-43a1-86bf-72d79883c223': Data(x=[2048, 4], edge_index=[2, 32768], y=[1], bbox_features=[7]), 'b113c9bf-a967-4657-bd22-8e09baeb9db0': Data(x=[2048, 4], edge_index=[2, 32768], y=[1], bbox_features=[7]), 'dcc3212c-d763-4548-b61b-e2a932ed4a5f': Data(x=[2048, 4], edge_index=[2, 32768], y=[1], bbox_features=[7]), '738c253b-747d-4629-a2d7-d0cdaa02cfdd': Data(x=[2048, 4], edge_index=[2, 32768], y=[1], bbox_features=[7]), '962a9ae9-f91f-4638-b995-355577315ed3': Data(x=[2048, 4], edge_index=[2, 32768], y=[1], bbox_features=[7]), 'd76bd1b8-74f7-481f-9afd-56b531fa9e5d': Data(x=[2048, 4], edge_index=[2, 32768], y=[1], bbox_features=[7]), 'd13ea162-0f5d-4a14-a30d-f4066c53df51': Data(x=[2048, 4], edge_index=[2, 32768], y=[1], bbox_features=[7]), '02cfa7d0-66fb-4f85-b9cb-60769f63aab3': Data(x=[2048, 4], edge_index=[2, 32768], y=[1], bbox_features=[7]), '34b7bfae-04b5-4e79-98fd-47526a092305': Data(x=[2048, 4], edge_index=[2, 32768], y=[1], bbox_features=[7]), '00d88923-6b0a-4265-857e-003e273118af': Data(x=[2048, 4], edge_index=[2, 32768], y=[1], bbox_features=[7]), '763e0000-f837-4bc4-881a-83305c43b17a': Data(x=[2048, 4], edge_index=[2, 32768], y=[1], bbox_features=[7]), '5d1dcc3c-2712-4e68-8f5a-dab4e4194062': Data(x=[2048, 4], edge_index=[2, 32768], y=[1], bbox_features=[7]), '64f8baf8-56b5-41e8-bd21-f12acc5467fd': Data(x=[2048, 4], edge_index=[2, 32768], y=[1], bbox_features=[7]), '572ae7e4-2975-461c-8c68-991af9319e5d': Data(x=[2048, 4], edge_index=[2, 32768], y=[1], bbox_features=[7]), '95a4bbf4-efb0-448e-9b03-29652e864d9e': Data(x=[2048, 4], edge_index=[2, 32768], y=[1], bbox_features=[7]), '15d445a8-a6a6-4a55-abf0-c52746849c71': Data(x=[2048, 4], edge_index=[2, 32768], y=[1], bbox_features=[7]), 'edafbdae-1546-490b-9ecd-59fea9731e90': Data(x=[2048, 4], edge_index=[2, 32768], y=[1], bbox_features=[7]), '73ca10ef-0c2d-4469-a93f-cd8a3c0fa54a': Data(x=[2048, 4], edge_index=[2, 32768], y=[1], bbox_features=[7]), 'd09f1e62-b4a7-46a7-ad07-c5e2f839f125': Data(x=[2048, 4], edge_index=[2, 32768], y=[1], bbox_features=[7]), '22fd77d0-bb14-4444-96ae-9f2a355394af': Data(x=[2048, 4], edge_index=[2, 32768], y=[1], bbox_features=[7]), '7e079230-edc8-443b-8800-4f6e5fad375a': Data(x=[2048, 4], edge_index=[2, 32768], y=[1], bbox_features=[7]), '4d34928f-2248-412b-be29-d1e12d599536': Data(x=[2048, 4], edge_index=[2, 32768], y=[1], bbox_features=[7]), '2a567d11-8a2d-43e3-b4f6-439c2d4dad87': Data(x=[2048, 4], edge_index=[2, 32768], y=[1], bbox_features=[7]), '2bf5b40c-733b-45a0-8db1-31996399d926': Data(x=[2048, 4], edge_index=[2, 32768], y=[1], bbox_features=[7]), '791066a0-8159-4982-86fb-6bab1c73485c': Data(x=[2048, 4], edge_index=[2, 32768], y=[1], bbox_features=[7]), 'f3ebfc6a-a718-470f-a45c-03b1d4884570': Data(x=[2048, 4], edge_index=[2, 32768], y=[1], bbox_features=[7]), '4be14982-f039-464c-bbeb-33315266c194': Data(x=[2048, 4], edge_index=[2, 32768], y=[1], bbox_features=[7]), 'cf80cffd-f455-480b-9dba-a8e0ebcc7258': Data(x=[2048, 4], edge_index=[2, 32768], y=[1], bbox_features=[7]), 'da73c2f5-b556-4bc4-82ce-b815741838e7': Data(x=[2048, 4], edge_index=[2, 32768], y=[1], bbox_features=[7]), '55a8c2ff-8eb9-494f-bc0b-09b661b184f6': Data(x=[2048, 4], edge_index=[2, 32768], y=[1], bbox_features=[7]), 'e0f8b312-8d2f-40f6-b874-0ba364c19bd0': Data(x=[2048, 4], edge_index=[2, 32768], y=[1], bbox_features=[7]), '38f3012e-2adc-494d-8913-0d7ee06a3cf6': Data(x=[2048, 4], edge_index=[2, 32768], y=[1], bbox_features=[7]), 'e79ac497-4c7c-464a-807b-7f7f9518f550': Data(x=[2048, 4], edge_index=[2, 32768], y=[1], bbox_features=[7]), '6ef559aa-9d15-4b3a-9ac2-a6c84dcdaf80': Data(x=[2048, 4], edge_index=[2, 32768], y=[1], bbox_features=[7]), 'e587a4ed-c24a-4ee6-857c-c199a27d728c': Data(x=[2048, 4], edge_index=[2, 32768], y=[1], bbox_features=[7]), 'ead09077-8827-42d8-9737-73dbe4fcf141': Data(x=[2048, 4], edge_index=[2, 32768], y=[1], bbox_features=[7]), 'c9785182-b6cc-4e7f-b064-f549d39c8cf1': Data(x=[2048, 4], edge_index=[2, 32768], y=[1], bbox_features=[7]), '287ac70c-ec44-45a8-bfdd-0c8178d32ce6': Data(x=[2048, 4], edge_index=[2, 32768], y=[1], bbox_features=[7]), 'ff0d4724-7eaa-4f60-a11b-25994b704fca': Data(x=[2048, 4], edge_index=[2, 32768], y=[1], bbox_features=[7]), 'a318860e-6ad2-4d04-bb28-4dc9dad5be3b': Data(x=[2048, 4], edge_index=[2, 32768], y=[1], bbox_features=[7]), 'edcb2ed8-739a-47b0-bc0f-7d46d0203a50': Data(x=[2048, 4], edge_index=[2, 32768], y=[1], bbox_features=[7]), '10ad6431-8f05-4d3c-8335-c10703b19627': Data(x=[2048, 4], edge_index=[2, 32768], y=[1], bbox_features=[7]), 'eb8557ff-6337-404c-a1db-d1854eaa0e3a': Data(x=[2048, 4], edge_index=[2, 32768], y=[1], bbox_features=[7]), 'edde0edd-95a7-4512-b6f4-037b3e80b4d9': Data(x=[2048, 4], edge_index=[2, 32768], y=[1], bbox_features=[7]), 'b9a98490-1527-4413-a75e-764f1fb696a4': Data(x=[2048, 4], edge_index=[2, 32768], y=[1], bbox_features=[7]), 'fcfbcf24-9d42-4447-bbee-6ede8d52f2fa': Data(x=[2048, 4], edge_index=[2, 32768], y=[1], bbox_features=[7]), '71d47249-1400-4a02-a5bf-d8d09d0799c3': Data(x=[2048, 4], edge_index=[2, 32768], y=[1], bbox_features=[7]), 'ce6a3f58-0885-4c1a-a415-65e319a85609': Data(x=[2048, 4], edge_index=[2, 32768], y=[1], bbox_features=[7]), 'f74cb2bf-e448-474f-98f4-d1f0dd9132d6': Data(x=[2048, 4], edge_index=[2, 32768], y=[1], bbox_features=[7]), 'e0ccaf2b-3417-467d-9123-8b6decf20727': Data(x=[2048, 4], edge_index=[2, 32768], y=[1], bbox_features=[7]), '61080a27-8651-4551-b34c-cd3bc73f7bbc': Data(x=[2048, 4], edge_index=[2, 32768], y=[1], bbox_features=[7]), '55a9f09d-67a6-4cb7-9feb-6377278f4315': Data(x=[2048, 4], edge_index=[2, 32768], y=[1], bbox_features=[7]), 'd234aefa-903c-4046-804c-040d6408ec29': Data(x=[2048, 4], edge_index=[2, 32768], y=[1], bbox_features=[7]), 'ec7f5145-6ec8-4575-a76e-aeec46055d1b': Data(x=[2048, 4], edge_index=[2, 32768], y=[1], bbox_features=[7]), 'df23bc1e-23c8-437d-a663-6858b4b16358': Data(x=[2048, 4], edge_index=[2, 32768], y=[1], bbox_features=[7]), '4950abb8-fafd-4630-950d-70b6d720c173': Data(x=[2048, 4], edge_index=[2, 32768], y=[1], bbox_features=[7]), 'af457579-1cdf-4f4f-b9f8-2292b9ab817c': Data(x=[2048, 4], edge_index=[2, 32768], y=[1], bbox_features=[7]), 'e83b4aa5-e90f-4929-bfef-31075c29becd': Data(x=[2048, 4], edge_index=[2, 32768], y=[1], bbox_features=[7]), '233a9a8f-61cb-488e-9b7e-50f5abb125c6': Data(x=[2048, 4], edge_index=[2, 32768], y=[1], bbox_features=[7]), '3cf6bc5d-b571-48b7-b714-c5ab2423a232': Data(x=[2048, 4], edge_index=[2, 32768], y=[1], bbox_features=[7]), 'eb885d2e-9fab-4ba3-afc0-94ecfb91003a': Data(x=[2048, 4], edge_index=[2, 32768], y=[1], bbox_features=[7]), 'ac30b7a0-5ade-4038-9fe1-4308e097e53c': Data(x=[2048, 4], edge_index=[2, 32768], y=[1], bbox_features=[7]), 'c7aa423e-ce64-45b5-bde8-e93c1644d371': Data(x=[2048, 4], edge_index=[2, 32768], y=[1], bbox_features=[7]), 'b1fe2181-07d1-4ecb-9f4a-e1cea760617e': Data(x=[2048, 4], edge_index=[2, 32768], y=[1], bbox_features=[7]), '0b11a44f-6f8f-4308-a2da-1739f3d7a58c': Data(x=[2048, 4], edge_index=[2, 32768], y=[1], bbox_features=[7]), '108c0104-5f7f-4fd7-85ea-4bd38c225603': Data(x=[2048, 4], edge_index=[2, 32769], y=[1], bbox_features=[7]), '18be45b9-5d59-4406-be97-8c9655938d74': Data(x=[2048, 4], edge_index=[2, 32768], y=[1], bbox_features=[7]), 'f0abd4e9-a05d-4713-b5f1-8596cf06ab81': Data(x=[2048, 4], edge_index=[2, 32768], y=[1], bbox_features=[7]), 'd28758a9-95d8-4dc4-b5bb-112589b67291': Data(x=[2048, 4], edge_index=[2, 32768], y=[1], bbox_features=[7]), '8c14b8ff-0340-4673-beed-04487ece65ab': Data(x=[2048, 4], edge_index=[2, 32768], y=[1], bbox_features=[7]), '7e44fe0f-9f17-4d57-aff9-ba8176524aea': Data(x=[2048, 4], edge_index=[2, 32768], y=[1], bbox_features=[7]), 'c1a6bb38-b7f8-4dbf-a227-1de6440cebfd': Data(x=[2048, 4], edge_index=[2, 32768], y=[1], bbox_features=[7]), '94d1c3d5-4daa-4518-92c1-d4bd3d57751d': Data(x=[2048, 4], edge_index=[2, 32768], y=[1], bbox_features=[7]), '6939ce70-5a84-4b14-b974-6a2587e9aeb0': Data(x=[2048, 4], edge_index=[2, 32768], y=[1], bbox_features=[7]), 'a7a3a07d-1df9-4da3-95ca-54f3ffb2d62f': Data(x=[2048, 4], edge_index=[2, 32768], y=[1], bbox_features=[7]), 'fecd2417-9399-41ee-9278-6e98fa1c0c8c': Data(x=[2048, 4], edge_index=[2, 32768], y=[1], bbox_features=[7]), '0b4e4cca-28f6-4ba6-b98e-a7f3132a3679': Data(x=[2048, 4], edge_index=[2, 32768], y=[1], bbox_features=[7]), '3989700d-d613-444b-bc54-7ab22ace4101': Data(x=[2048, 4], edge_index=[2, 32768], y=[1], bbox_features=[7]), '50d48cf0-e09c-4acb-994e-b9b1fc9a349e': Data(x=[2048, 4], edge_index=[2, 32768], y=[1], bbox_features=[7]), '2e5d7f90-b6bc-465e-be55-adc85af6e9eb': Data(x=[2048, 4], edge_index=[2, 32768], y=[1], bbox_features=[7]), '9b98f9e2-7c0d-404a-b3a4-1d2746bd20b1': Data(x=[2048, 4], edge_index=[2, 32768], y=[1], bbox_features=[7]), '289555f3-c2c3-4898-9833-23a78cf72447': Data(x=[2048, 4], edge_index=[2, 32768], y=[1], bbox_features=[7]), '3d96284c-5614-4050-b317-c64c7d7e010a': Data(x=[2048, 4], edge_index=[2, 32768], y=[1], bbox_features=[7]), 'f09c4c41-4420-4e94-ac8a-25e0913579f3': Data(x=[2048, 4], edge_index=[2, 32768], y=[1], bbox_features=[7]), '1861ff86-645a-428e-9d7f-ef37840de51e': Data(x=[2048, 4], edge_index=[2, 32768], y=[1], bbox_features=[7]), '014b446f-cd79-43ae-b48e-bea194815766': Data(x=[2048, 4], edge_index=[2, 32768], y=[1], bbox_features=[7]), 'f15dfc3f-24c2-4dd4-8a9f-ba8384ea9445': Data(x=[2048, 4], edge_index=[2, 32768], y=[1], bbox_features=[7]), '117adfab-9a7b-4bb8-a72c-f32faf5f62b7': Data(x=[2048, 4], edge_index=[2, 32768], y=[1], bbox_features=[7]), 'b2c884e4-c0c1-4883-bb00-5529fed7b440': Data(x=[2048, 4], edge_index=[2, 32768], y=[1], bbox_features=[7]), '45a4e2f5-21a4-46df-b924-ffa7ebb2343a': Data(x=[2048, 4], edge_index=[2, 32768], y=[1], bbox_features=[7]), 'a887d767-b1b4-45d2-b9d6-e68aff0b828a': Data(x=[2048, 4], edge_index=[2, 32768], y=[1], bbox_features=[7]), 'a50f2bb4-a6b8-48b9-bb66-69b587d0a153': Data(x=[2048, 4], edge_index=[2, 32768], y=[1], bbox_features=[7]), 'ebc02002-5ca3-4ea7-b22c-af6c29a20aec': Data(x=[2048, 4], edge_index=[2, 32768], y=[1], bbox_features=[7]), '0e6fd93b-a533-4b2b-8798-4aac38be5ccb': Data(x=[2048, 4], edge_index=[2, 32775], y=[1], bbox_features=[7]), 'b362c015-fa30-49eb-8df4-d6282c7780d6': Data(x=[2048, 4], edge_index=[2, 32768], y=[1], bbox_features=[7]), '91b517bc-24ee-4fe8-b426-45bab0571286': Data(x=[2048, 4], edge_index=[2, 32768], y=[1], bbox_features=[7]), '81eb5f43-c21f-4e65-8ac3-30011ad3d417': Data(x=[2048, 4], edge_index=[2, 32768], y=[1], bbox_features=[7]), 'e781287c-200f-4175-8341-f15a3e96baf6': Data(x=[2048, 4], edge_index=[2, 32768], y=[1], bbox_features=[7]), '7536bdbb-926e-491e-a7c5-0216600964a4': Data(x=[2048, 4], edge_index=[2, 32768], y=[1], bbox_features=[7]), 'b9b7eec1-14e9-4498-8578-bad480267736': Data(x=[2048, 4], edge_index=[2, 32768], y=[1], bbox_features=[7]), '9185380b-4b98-4bbc-b916-24cb6454675e': Data(x=[2048, 4], edge_index=[2, 32768], y=[1], bbox_features=[7]), 'bb4928d5-9b8c-440c-9a50-a812e90fe2b7': Data(x=[2048, 4], edge_index=[2, 32768], y=[1], bbox_features=[7]), 'd7aa00b6-206b-4db8-bc0f-9bb196eb9232': Data(x=[2048, 4], edge_index=[2, 32768], y=[1], bbox_features=[7]), 'f79a9e23-7aa4-4113-997c-97af279e48ed': Data(x=[2048, 4], edge_index=[2, 32768], y=[1], bbox_features=[7]), '2b8b4583-a6f5-4daf-b600-4a8553eea507': Data(x=[2048, 4], edge_index=[2, 32768], y=[1], bbox_features=[7]), '3187f30d-da5f-44c4-995a-f8cf2cdcb213': Data(x=[2048, 4], edge_index=[2, 32768], y=[1], bbox_features=[7]), 'b76a5787-cbee-438c-92a0-37b94e5d2d0f': Data(x=[2048, 4], edge_index=[2, 32768], y=[1], bbox_features=[7]), 'ad970304-676d-4a48-b93b-cf66865c7f61': Data(x=[2048, 4], edge_index=[2, 32768], y=[1], bbox_features=[7]), 'a07fb0a4-f8fc-4da3-b48d-3ae651f5dd19': Data(x=[2048, 4], edge_index=[2, 32768], y=[1], bbox_features=[7]), '2b8ad00d-a298-40be-a940-5136590284ee': Data(x=[2048, 4], edge_index=[2, 32768], y=[1], bbox_features=[7]), '6a69ebf4-0084-4184-82ac-b0301df43f78': Data(x=[2048, 4], edge_index=[2, 32768], y=[1], bbox_features=[7]), '19c94a3d-cccc-45e9-b418-02e7e075fe62': Data(x=[2048, 4], edge_index=[2, 32768], y=[1], bbox_features=[7]), 'f89587df-c89e-4b67-9104-f1fd9c2be4d7': Data(x=[2048, 4], edge_index=[2, 32768], y=[1], bbox_features=[7]), '1f879019-7321-4c55-b13a-76bac8ad1ac8': Data(x=[2048, 4], edge_index=[2, 32768], y=[1], bbox_features=[7]), '708fa126-8282-40c2-b4f0-e2ed5ff8772a': Data(x=[2048, 4], edge_index=[2, 32768], y=[1], bbox_features=[7]), 'e6e4fc8f-3f39-43e9-b6d5-61365257f6c2': Data(x=[2048, 4], edge_index=[2, 32768], y=[1], bbox_features=[7]), '8a02c894-3153-4b4d-943c-35e32e898ef7': Data(x=[2048, 4], edge_index=[2, 32768], y=[1], bbox_features=[7]), 'c8b84315-05bc-40c4-b07a-072bbfc311d5': Data(x=[2048, 4], edge_index=[2, 32768], y=[1], bbox_features=[7]), '7522d4ae-81cb-4ce1-86e6-62d2365c61cd': Data(x=[2048, 4], edge_index=[2, 32768], y=[1], bbox_features=[7]), 'bcad0d9c-208d-432b-a5ef-72ac17b48b77': Data(x=[2048, 4], edge_index=[2, 32768], y=[1], bbox_features=[7]), '8164a9a4-b14e-4f2a-8486-812acb2f85ea': Data(x=[2048, 4], edge_index=[2, 32768], y=[1], bbox_features=[7]), '6982e470-8fc9-44ae-9fe7-4a36b416a590': Data(x=[2048, 4], edge_index=[2, 32768], y=[1], bbox_features=[7]), '2c80d748-4f66-428d-a139-8ad299d4b828': Data(x=[2048, 4], edge_index=[2, 32768], y=[1], bbox_features=[7]), '7c708d44-8084-4cce-9996-25f14960da8e': Data(x=[2048, 4], edge_index=[2, 32768], y=[1], bbox_features=[7]), '2ebb8d33-a3ea-4657-a6fb-d1b3a3835a40': Data(x=[2048, 4], edge_index=[2, 32768], y=[1], bbox_features=[7]), '6d1daefd-4e64-442b-8b97-d0d9cb9e04e8': Data(x=[2048, 4], edge_index=[2, 32768], y=[1], bbox_features=[7]), 'b7de9965-6890-423b-b09b-30b385fcfbd4': Data(x=[2048, 4], edge_index=[2, 32768], y=[1], bbox_features=[7]), '93304811-ed1d-45f0-a8da-e29a510da2b2': Data(x=[2048, 4], edge_index=[2, 32768], y=[1], bbox_features=[7]), '701896df-d1e6-4265-a1e1-0d50c5da2919': Data(x=[2048, 4], edge_index=[2, 32768], y=[1], bbox_features=[7]), 'e4236bc5-957a-49be-895d-67029523381b': Data(x=[2048, 4], edge_index=[2, 32768], y=[1], bbox_features=[7]), 'b57822fa-9922-4fd7-9f60-78516b21167e': Data(x=[2048, 4], edge_index=[2, 32768], y=[1], bbox_features=[7]), 'ac8592d7-1912-4829-aadd-2bbbf2591283': Data(x=[2048, 4], edge_index=[2, 32768], y=[1], bbox_features=[7]), '7634110f-774f-4b5f-a3a8-bbcd11011cda': Data(x=[2048, 4], edge_index=[2, 32768], y=[1], bbox_features=[7]), '80a6abaa-0f76-46c1-bf4d-21b422b0fc94': Data(x=[2048, 4], edge_index=[2, 32768], y=[1], bbox_features=[7]), '90c46cac-a655-41bf-83bf-3207a9ef43f2': Data(x=[2048, 4], edge_index=[2, 32768], y=[1], bbox_features=[7]), '433bfd6d-f7ca-45d7-a41d-46386f193526': Data(x=[2048, 4], edge_index=[2, 32768], y=[1], bbox_features=[7]), '7bcbd3a7-8283-4636-84d9-3eb16ee6d796': Data(x=[2048, 4], edge_index=[2, 32768], y=[1], bbox_features=[7]), '31ebfb56-f776-4515-9ee5-71d971e37d95': Data(x=[2048, 4], edge_index=[2, 32768], y=[1], bbox_features=[7]), '7941a21f-97ac-481f-a95c-b22a3ac8b26f': Data(x=[2048, 4], edge_index=[2, 32768], y=[1], bbox_features=[7]), 'c3ba0ab0-4f13-4e7f-bbea-8d65c239c3ee': Data(x=[2048, 4], edge_index=[2, 32768], y=[1], bbox_features=[7]), '0802f1c2-db21-423e-9126-ea6629c961c6': Data(x=[2048, 4], edge_index=[2, 32768], y=[1], bbox_features=[7]), '7f956827-ee33-46db-a00c-254d2c61a912': Data(x=[2048, 4], edge_index=[2, 32768], y=[1], bbox_features=[7]), '8ad65ef5-bd30-4c97-98d5-00f5e60ce674': Data(x=[2048, 4], edge_index=[2, 32768], y=[1], bbox_features=[7]), 'f49203dc-753c-438f-b66c-8b8a752e6272': Data(x=[2048, 4], edge_index=[2, 32768], y=[1], bbox_features=[7]), 'e56187fa-01e6-403c-bba5-513be9c3610b': Data(x=[2048, 4], edge_index=[2, 32768], y=[1], bbox_features=[7]), 'd0cc2e16-2dca-4c16-a19b-12aba6eb9d00': Data(x=[2048, 4], edge_index=[2, 32768], y=[1], bbox_features=[7]), 'e5fa71f6-fb90-4a8b-9378-93a6267815f0': Data(x=[2048, 4], edge_index=[2, 32768], y=[1], bbox_features=[7]), '178a707d-dd61-4d53-8850-a8c47779f999': Data(x=[2048, 4], edge_index=[2, 32768], y=[1], bbox_features=[7]), 'fb851fd0-8a16-42e7-bf27-7aba4e15c1d4': Data(x=[2048, 4], edge_index=[2, 32768], y=[1], bbox_features=[7]), '1e716573-63ff-4235-a409-cdd2f441b2f5': Data(x=[2048, 4], edge_index=[2, 32768], y=[1], bbox_features=[7]), '3b7eff2b-21d3-4ab1-b3b3-f3b88e345db3': Data(x=[2048, 4], edge_index=[2, 32768], y=[1], bbox_features=[7]), '03b43d34-57ad-449a-88cd-7b2904d79efc': Data(x=[2048, 4], edge_index=[2, 32768], y=[1], bbox_features=[7]), 'cec9808e-06d9-4305-96f4-3d619d950c9f': Data(x=[2048, 4], edge_index=[2, 32768], y=[1], bbox_features=[7]), '187f41c7-2619-4113-bf79-390a50b3ab78': Data(x=[2048, 4], edge_index=[2, 32768], y=[1], bbox_features=[7]), '9b9a39e7-39ce-4842-bdf6-f5677caa5b67': Data(x=[2048, 4], edge_index=[2, 32768], y=[1], bbox_features=[7]), 'bf89cc4d-a2e1-49e6-9769-064b2879d2d3': Data(x=[2048, 4], edge_index=[2, 32768], y=[1], bbox_features=[7]), 'b00e4e09-e2a2-4004-9c33-b2a0b23143af': Data(x=[2048, 4], edge_index=[2, 32768], y=[1], bbox_features=[7]), '2491f10f-046d-46b0-8a45-cf02b5ccdc5c': Data(x=[2048, 4], edge_index=[2, 32768], y=[1], bbox_features=[7]), '30493d82-ae45-4a21-93c5-db2548a8f293': Data(x=[2048, 4], edge_index=[2, 32768], y=[1], bbox_features=[7]), '88240e23-8290-49a3-af7d-633c61754e9b': Data(x=[2048, 4], edge_index=[2, 32768], y=[1], bbox_features=[7]), 'c1fdd761-922e-44d8-82b1-1295242bde76': Data(x=[2048, 4], edge_index=[2, 32768], y=[1], bbox_features=[7]), '4a6a061a-ffbd-4319-bd30-fe503953acd4': Data(x=[2048, 4], edge_index=[2, 32768], y=[1], bbox_features=[7]), 'f626ffd9-caae-48c2-8089-eb95dcaccca7': Data(x=[2048, 4], edge_index=[2, 32768], y=[1], bbox_features=[7]), '2d6af357-2ebd-4f1f-905d-238df082acbf': Data(x=[2048, 4], edge_index=[2, 32768], y=[1], bbox_features=[7]), '6d835ab4-83dc-4a9c-9fe4-495cc697e111': Data(x=[2048, 4], edge_index=[2, 32768], y=[1], bbox_features=[7]), '19c9564e-fb1e-45db-bd8b-cf8d0da76d98': Data(x=[2048, 4], edge_index=[2, 32768], y=[1], bbox_features=[7]), '3713df74-474b-4214-8351-67fc8155f756': Data(x=[2048, 4], edge_index=[2, 32768], y=[1], bbox_features=[7]), '0c7d5403-3bb5-4811-8701-60cb8776f5ce': Data(x=[2048, 4], edge_index=[2, 32768], y=[1], bbox_features=[7]), 'c2462181-bf4a-4872-b996-5b3139aec92b': Data(x=[2048, 4], edge_index=[2, 32768], y=[1], bbox_features=[7]), 'afcd5a8e-8f44-48fc-aec5-3a98f70f91cc': Data(x=[2048, 4], edge_index=[2, 32768], y=[1], bbox_features=[7]), '97e54198-6475-456f-956e-837b277279fc': Data(x=[2048, 4], edge_index=[2, 32768], y=[1], bbox_features=[7]), '11be1709-ffd1-4cc4-919b-232ef1405f60': Data(x=[2048, 4], edge_index=[2, 32768], y=[1], bbox_features=[7]), '4e3f0146-b873-4655-9470-3f358e7c8d8b': Data(x=[2048, 4], edge_index=[2, 32768], y=[1], bbox_features=[7]), '535a8e47-c02d-4d05-a7e1-8476bdc22c60': Data(x=[2048, 4], edge_index=[2, 32768], y=[1], bbox_features=[7]), 'fc720828-2569-4a02-b0ed-0dfc4ce5dc67': Data(x=[2048, 4], edge_index=[2, 32768], y=[1], bbox_features=[7]), '610dd753-1a77-4b8e-8a5a-5ee6d4dbb24a': Data(x=[2048, 4], edge_index=[2, 32768], y=[1], bbox_features=[7]), 'c0589de7-57df-4b5b-883e-2ccba76beb97': Data(x=[2048, 4], edge_index=[2, 32768], y=[1], bbox_features=[7]), '577a2018-f253-4abb-be67-75547591fef0': Data(x=[2048, 4], edge_index=[2, 32768], y=[1], bbox_features=[7]), '5f75517e-524c-45ec-a5dc-4fa82c60be52': Data(x=[2048, 4], edge_index=[2, 32768], y=[1], bbox_features=[7]), '20194c3c-d15e-41ca-affe-3e53e414c062': Data(x=[2048, 4], edge_index=[2, 32768], y=[1], bbox_features=[7]), '36b22030-0f79-4ef8-b3ac-0019ad5fe3ab': Data(x=[2048, 4], edge_index=[2, 32768], y=[1], bbox_features=[7]), 'd9b8aa5f-d9b8-484d-adad-d48b9bb9959a': Data(x=[2048, 4], edge_index=[2, 32768], y=[1], bbox_features=[7]), 'ddafc917-c772-47cb-a44e-a5e091af577f': Data(x=[2048, 4], edge_index=[2, 32768], y=[1], bbox_features=[7]), '5479acfb-3699-4f61-9b04-83cbc5be9042': Data(x=[2048, 4], edge_index=[2, 32768], y=[1], bbox_features=[7]), '7dc305a3-bc44-496d-9597-72819e47f0b3': Data(x=[2048, 4], edge_index=[2, 32768], y=[1], bbox_features=[7]), '46dcd002-b366-4bcb-8db0-60014934e028': Data(x=[2048, 4], edge_index=[2, 32768], y=[1], bbox_features=[7]), 'f361904c-7751-49fd-8147-bcfc7d043854': Data(x=[2048, 4], edge_index=[2, 32768], y=[1], bbox_features=[7]), '3159f169-921d-4f5a-b37b-d9330e03cd68': Data(x=[2048, 4], edge_index=[2, 32768], y=[1], bbox_features=[7]), '27fe5995-3c29-46e5-afd5-32de602f8e25': Data(x=[2048, 4], edge_index=[2, 32768], y=[1], bbox_features=[7]), '92e07176-901d-4869-b7a8-503dc2814e66': Data(x=[2048, 4], edge_index=[2, 32768], y=[1], bbox_features=[7]), '66659170-c6a5-43bf-91c2-4f3505be9949': Data(x=[2048, 4], edge_index=[2, 32768], y=[1], bbox_features=[7]), '56c4dc51-1f36-4385-8315-38f0273ff8ee': Data(x=[2048, 4], edge_index=[2, 32768], y=[1], bbox_features=[7]), 'e95732d4-861c-40a0-a2b7-73f9df75db0d': Data(x=[2048, 4], edge_index=[2, 32768], y=[1], bbox_features=[7]), '9c7a6e23-6f08-46e9-bc4d-0d3e4fa6f4d3': Data(x=[2048, 4], edge_index=[2, 32768], y=[1], bbox_features=[7]), 'ad548a60-e796-4037-a2c8-a8aef95f67bc': Data(x=[2048, 4], edge_index=[2, 32768], y=[1], bbox_features=[7]), '365657fc-000c-4e8f-acd4-2306475fbfde': Data(x=[2048, 4], edge_index=[2, 32768], y=[1], bbox_features=[7]), 'e268c170-e309-4707-a7a0-ed0870415d30': Data(x=[2048, 4], edge_index=[2, 32768], y=[1], bbox_features=[7]), '452a948c-b26d-4da6-8c08-001286f8dad0': Data(x=[2048, 4], edge_index=[2, 32768], y=[1], bbox_features=[7]), 'faf6565f-30dc-49bb-ae7e-501b7bba834c': Data(x=[2048, 4], edge_index=[2, 32768], y=[1], bbox_features=[7]), '2003c640-3429-4075-b790-5d383909296f': Data(x=[2048, 4], edge_index=[2, 32768], y=[1], bbox_features=[7]), 'dc2a5929-d710-4a67-8531-ecdb47fbbf1b': Data(x=[2048, 4], edge_index=[2, 32768], y=[1], bbox_features=[7]), 'c43dbb4b-5d15-43d8-820e-dd6947380902': Data(x=[2048, 4], edge_index=[2, 32768], y=[1], bbox_features=[7]), 'f0103b1e-f261-472c-9293-f4bade0944eb': Data(x=[2048, 4], edge_index=[2, 32768], y=[1], bbox_features=[7]), 'dbbd3758-13fa-414f-863b-f0ca5eafdbce': Data(x=[2048, 4], edge_index=[2, 32768], y=[1], bbox_features=[7]), 'dcb767ac-e325-49c2-8a17-45880d631fa4': Data(x=[2048, 4], edge_index=[2, 32768], y=[1], bbox_features=[7]), 'e7b7243b-7ecd-407c-a92f-2a54f38a492b': Data(x=[2048, 4], edge_index=[2, 32768], y=[1], bbox_features=[7]), '79201403-a7e3-442b-869e-a76c904116aa': Data(x=[2048, 4], edge_index=[2, 32768], y=[1], bbox_features=[7]), '10f5fd41-d410-40cf-991b-2d6110a0be3b': Data(x=[2048, 4], edge_index=[2, 32768], y=[1], bbox_features=[7]), 'a9af29be-3a04-4587-824d-2842843db999': Data(x=[2048, 4], edge_index=[2, 32768], y=[1], bbox_features=[7]), 'cf132b3a-ac9d-4b3c-92b3-766a891149bd': Data(x=[2048, 4], edge_index=[2, 32768], y=[1], bbox_features=[7]), '4fd3bc6c-1250-4053-b489-dd1f1393eea5': Data(x=[2048, 4], edge_index=[2, 32768], y=[1], bbox_features=[7]), '0ea5190c-74b0-4a93-bf21-1ca6fedd2256': Data(x=[2048, 4], edge_index=[2, 32768], y=[1], bbox_features=[7]), 'd4afbdd4-85a9-4727-885f-1262bf5f645f': Data(x=[2048, 4], edge_index=[2, 32768], y=[1], bbox_features=[7]), 'aac8eb6d-c4c7-465a-816c-7ab599b499db': Data(x=[2048, 4], edge_index=[2, 32768], y=[1], bbox_features=[7]), '9ee52218-fd41-4924-8c3c-8144038dc82f': Data(x=[2048, 4], edge_index=[2, 32768], y=[1], bbox_features=[7]), '2c1611ef-4cf2-45c2-b8fa-d6000c65ed64': Data(x=[2048, 4], edge_index=[2, 32768], y=[1], bbox_features=[7]), '1f7b3b65-04e9-4044-ac45-ad1793891566': Data(x=[2048, 4], edge_index=[2, 32768], y=[1], bbox_features=[7]), 'b39c6f0c-aab8-4b2b-b27c-a3f2c9f33e06': Data(x=[2048, 4], edge_index=[2, 32768], y=[1], bbox_features=[7]), 'a137a84e-18db-4b84-a2a5-f11e1fbd9492': Data(x=[2048, 4], edge_index=[2, 32768], y=[1], bbox_features=[7]), '75b92e8e-3d9d-451e-8abc-d16fbfd542ca': Data(x=[2048, 4], edge_index=[2, 32768], y=[1], bbox_features=[7]), 'cf4fbc77-734c-49ad-94b9-5bf8794a5301': Data(x=[2048, 4], edge_index=[2, 32768], y=[1], bbox_features=[7]), '115e1bfd-cefd-4e3f-9f55-00bc45a4d55e': Data(x=[2048, 4], edge_index=[2, 32768], y=[1], bbox_features=[7]), 'e2f4d08a-5dea-47e2-8b5c-dd6b7d4dd00f': Data(x=[2048, 4], edge_index=[2, 32768], y=[1], bbox_features=[7]), '62f7b3f3-9faa-4bf2-bf91-368a288b4b14': Data(x=[2048, 4], edge_index=[2, 32768], y=[1], bbox_features=[7]), '2308c551-fe09-4b27-943b-f2cf4727a674': Data(x=[2048, 4], edge_index=[2, 32768], y=[1], bbox_features=[7]), 'c97e184f-c2f5-410b-9ef9-0994ea5bb582': Data(x=[2048, 4], edge_index=[2, 32768], y=[1], bbox_features=[7]), '26a82239-a835-486c-8f08-e3a1158145d6': Data(x=[2048, 4], edge_index=[2, 32768], y=[1], bbox_features=[7]), 'c6ce5992-29f4-4424-8f31-11960784c54d': Data(x=[2048, 4], edge_index=[2, 32768], y=[1], bbox_features=[7]), 'bdf23b8c-eef1-49f4-b62c-a991bec6b587': Data(x=[2048, 4], edge_index=[2, 32768], y=[1], bbox_features=[7]), 'b94cacc3-9fb7-451a-b06e-cc4e324703c5': Data(x=[2048, 4], edge_index=[2, 32768], y=[1], bbox_features=[7]), '7b93ee47-2660-40d6-94f0-d1de75f3135d': Data(x=[2048, 4], edge_index=[2, 32768], y=[1], bbox_features=[7]), '1b83983b-b87c-4e5c-b0c8-eaf3c7e7132e': Data(x=[2048, 4], edge_index=[2, 32768], y=[1], bbox_features=[7]), 'b423d239-a85e-40ab-a582-5f1680cad3f9': Data(x=[2048, 4], edge_index=[2, 32768], y=[1], bbox_features=[7]), 'c798e43e-89c5-4385-a452-9b3c43d88db6': Data(x=[2048, 4], edge_index=[2, 32768], y=[1], bbox_features=[7]), '872e766f-a1e4-4242-aca2-2d2d5c4e9e5d': Data(x=[2048, 4], edge_index=[2, 32768], y=[1], bbox_features=[7]), 'b3f950e6-2776-4998-99ae-d343f870e19d': Data(x=[2048, 4], edge_index=[2, 32768], y=[1], bbox_features=[7]), '1ef88688-ec5a-4e4e-b9c9-81fdc94acc1d': Data(x=[2048, 4], edge_index=[2, 32768], y=[1], bbox_features=[7]), '47754afc-3fcd-4868-aec4-5d91521cd794': Data(x=[2048, 4], edge_index=[2, 32768], y=[1], bbox_features=[7]), 'b5b8ff57-b3b7-4d4e-8491-634353de20bf': Data(x=[2048, 4], edge_index=[2, 32768], y=[1], bbox_features=[7]), 'c0b73c07-6fc7-4fd0-a7fb-5ba5ab8b8e75': Data(x=[2048, 4], edge_index=[2, 32768], y=[1], bbox_features=[7]), '32f04a3a-2b38-40e0-aa0c-27a8d0b6b1c0': Data(x=[2048, 4], edge_index=[2, 32768], y=[1], bbox_features=[7]), '20c9bf58-5cd2-48a5-a047-1527cad7de3d': Data(x=[2048, 4], edge_index=[2, 32768], y=[1], bbox_features=[7]), 'ce83c17a-04c3-47a1-ae9f-284e57cce157': Data(x=[2048, 4], edge_index=[2, 32768], y=[1], bbox_features=[7]), 'c1330914-f0e6-4272-97c6-60de3d97bd10': Data(x=[2048, 4], edge_index=[2, 32768], y=[1], bbox_features=[7]), '6747bec7-2576-4c4e-a02b-1b3cbc58715e': Data(x=[2048, 4], edge_index=[2, 32768], y=[1], bbox_features=[7]), '9a65c188-04e6-4518-8349-c4989f7f9722': Data(x=[2048, 4], edge_index=[2, 32768], y=[1], bbox_features=[7]), 'ee9d8042-df0d-4438-8d4d-002bf544a74d': Data(x=[2048, 4], edge_index=[2, 32768], y=[1], bbox_features=[7]), 'f327f20a-6122-4735-b7fb-d9730f9cd3be': Data(x=[2048, 4], edge_index=[2, 32768], y=[1], bbox_features=[7]), '5f41ec9a-e752-42c8-a149-4d6bf4f5ffd3': Data(x=[2048, 4], edge_index=[2, 32768], y=[1], bbox_features=[7]), '6542cf00-812e-4b3d-8f73-23b5d0f21e3b': Data(x=[2048, 4], edge_index=[2, 32768], y=[1], bbox_features=[7]), '2eec3b3e-2c42-4da8-a560-9b0199dbba13': Data(x=[2048, 4], edge_index=[2, 32768], y=[1], bbox_features=[7]), '72372f18-0b7a-4552-9de6-2b2648317180': Data(x=[2048, 4], edge_index=[2, 32768], y=[1], bbox_features=[7]), '0597adbb-7b8e-4133-be80-9605751dcbd7': Data(x=[2048, 4], edge_index=[2, 32768], y=[1], bbox_features=[7]), '09b92c29-da85-4571-a051-8e81e61a04f6': Data(x=[2048, 4], edge_index=[2, 32768], y=[1], bbox_features=[7]), '76596b3e-d20a-420b-9be2-ced8cb084803': Data(x=[2048, 4], edge_index=[2, 32768], y=[1], bbox_features=[7]), 'd831e652-2f0b-49a3-9911-fd7483131834': Data(x=[2048, 4], edge_index=[2, 32768], y=[1], bbox_features=[7]), '9c4426a9-a6ee-4d69-89a0-ba2d04a266de': Data(x=[2048, 4], edge_index=[2, 32768], y=[1], bbox_features=[7]), '0885611f-d208-411d-bb69-a151f681de63': Data(x=[2048, 4], edge_index=[2, 32768], y=[1], bbox_features=[7]), 'b8c3cdc3-2d25-4df1-82da-84374070ee38': Data(x=[2048, 4], edge_index=[2, 32768], y=[1], bbox_features=[7]), '75c8a3d1-17c5-4857-af40-8c958c6834bd': Data(x=[2048, 4], edge_index=[2, 32768], y=[1], bbox_features=[7]), '41261e35-7fca-4d5f-a468-5349ad090109': Data(x=[2048, 4], edge_index=[2, 32768], y=[1], bbox_features=[7]), 'b7efd4b7-58e4-43b7-852a-fac09d264755': Data(x=[2048, 4], edge_index=[2, 32768], y=[1], bbox_features=[7]), '61637502-a38f-4e0a-abe9-e2ace1945949': Data(x=[2048, 4], edge_index=[2, 32768], y=[1], bbox_features=[7]), '7074f5d8-5656-4154-b390-fc15800d433f': Data(x=[2048, 4], edge_index=[2, 32768], y=[1], bbox_features=[7]), '3884a63e-7a26-4927-a731-63c551fe0237': Data(x=[2048, 4], edge_index=[2, 32768], y=[1], bbox_features=[7]), 'a0d88474-f434-4026-91d5-a28a5a0d78f3': Data(x=[2048, 4], edge_index=[2, 32768], y=[1], bbox_features=[7]), 'b07aa2fb-fc84-4d52-b7ce-2856a093c1ad': Data(x=[2048, 4], edge_index=[2, 32768], y=[1], bbox_features=[7]), '58b2ffb3-94de-4be8-a8f8-fa54cc410f56': Data(x=[2048, 4], edge_index=[2, 32768], y=[1], bbox_features=[7]), '2584aa9d-5b1c-484f-b92b-18a34a17e99e': Data(x=[2048, 4], edge_index=[2, 32768], y=[1], bbox_features=[7]), '1ee24ded-88a1-41a7-8388-68ec56f31e81': Data(x=[2048, 4], edge_index=[2, 32768], y=[1], bbox_features=[7]), '8be371b3-6526-4aed-baac-fe58406bb6a4': Data(x=[2048, 4], edge_index=[2, 32768], y=[1], bbox_features=[7]), '135534e4-1a06-40cf-8c61-2437a49d2c42': Data(x=[2048, 4], edge_index=[2, 32768], y=[1], bbox_features=[7]), 'ca8a59d5-3e7a-4850-8189-373d022614cd': Data(x=[2048, 4], edge_index=[2, 32768], y=[1], bbox_features=[7]), '037edd18-21b7-4c86-bf59-1ca02f0edd10': Data(x=[2048, 4], edge_index=[2, 32768], y=[1], bbox_features=[7]), 'a562da5c-6b19-4fcc-8111-1f970cc57ea2': Data(x=[2048, 4], edge_index=[2, 32768], y=[1], bbox_features=[7]), 'cb1a7436-fe66-451f-876b-f255da963354': Data(x=[2048, 4], edge_index=[2, 32768], y=[1], bbox_features=[7]), '632a346a-438f-4b60-a7fb-1fb9996796fa': Data(x=[2048, 4], edge_index=[2, 32768], y=[1], bbox_features=[7]), '64bb4ca8-5fa3-4c52-af78-5afe1d83ed45': Data(x=[2048, 4], edge_index=[2, 32768], y=[1], bbox_features=[7]), 'ebbadf2e-faed-46dd-886a-2b4e0b7950e9': Data(x=[2048, 4], edge_index=[2, 32768], y=[1], bbox_features=[7]), 'bea3881f-8abb-4442-a155-084e81ff8cfa': Data(x=[2048, 4], edge_index=[2, 32768], y=[1], bbox_features=[7]), '64b06ead-6267-407b-b64d-57f4ed2d1a1c': Data(x=[2048, 4], edge_index=[2, 32768], y=[1], bbox_features=[7]), 'd64a8e2b-5ee7-430e-8e6b-35d4198a1ef4': Data(x=[2048, 4], edge_index=[2, 32768], y=[1], bbox_features=[7]), '3edcdfce-fbfb-4a02-97d5-217764f4ee02': Data(x=[2048, 4], edge_index=[2, 32768], y=[1], bbox_features=[7]), '2136f3b9-91c5-4d5d-9034-80228fd63beb': Data(x=[2048, 4], edge_index=[2, 32768], y=[1], bbox_features=[7]), '67ab00ed-4810-4170-a64d-e053e3bc35e1': Data(x=[2048, 4], edge_index=[2, 32768], y=[1], bbox_features=[7]), 'e1c91602-0de3-4593-a7ec-71937fb4dfaa': Data(x=[2048, 4], edge_index=[2, 32768], y=[1], bbox_features=[7]), 'e034c612-6c7a-4612-977b-bf12614eaa39': Data(x=[2048, 4], edge_index=[2, 32768], y=[1], bbox_features=[7]), '0c85ce80-2d4b-441f-9351-5e0599567f4d': Data(x=[2048, 4], edge_index=[2, 32768], y=[1], bbox_features=[7]), '4eab563e-1043-48dc-ac2c-24dd1ef3637b': Data(x=[2048, 4], edge_index=[2, 32768], y=[1], bbox_features=[7]), '5f32087c-798d-447b-af50-3f667681fde9': Data(x=[2048, 4], edge_index=[2, 32768], y=[1], bbox_features=[7]), 'c169f0ef-4029-4515-aba9-2969553cf642': Data(x=[2048, 4], edge_index=[2, 32768], y=[1], bbox_features=[7]), '58f0e45a-052f-4ef8-8a7d-fb476b274c3d': Data(x=[2048, 4], edge_index=[2, 32768], y=[1], bbox_features=[7]), '04f09878-495c-4244-a6b0-02bc972445e4': Data(x=[2048, 4], edge_index=[2, 32768], y=[1], bbox_features=[7]), 'afd88a0d-7fcc-4ecf-a16d-8b6fcc51ebbc': Data(x=[2048, 4], edge_index=[2, 32768], y=[1], bbox_features=[7]), '34c04b78-948c-497b-9925-95b20aa67f56': Data(x=[2048, 4], edge_index=[2, 32768], y=[1], bbox_features=[7]), 'a75381f6-8058-485b-94f8-029accaddb27': Data(x=[2048, 4], edge_index=[2, 32768], y=[1], bbox_features=[7]), 'f791910e-d02a-42e2-9daf-7a4c472d1c23': Data(x=[2048, 4], edge_index=[2, 32768], y=[1], bbox_features=[7]), 'e1c92e83-d113-4376-91c7-fda38ac4be2e': Data(x=[2048, 4], edge_index=[2, 32768], y=[1], bbox_features=[7]), 'd5a48f3b-64e5-4047-99cc-666f52e974c3': Data(x=[2048, 4], edge_index=[2, 32768], y=[1], bbox_features=[7]), 'e3424f8a-e9f1-40c3-ad82-322e20475803': Data(x=[2048, 4], edge_index=[2, 32768], y=[1], bbox_features=[7]), 'dc729fd1-e8e1-4e66-af69-3fe3b06eb6d9': Data(x=[2048, 4], edge_index=[2, 32768], y=[1], bbox_features=[7]), '1f0b131d-d041-49be-a6e4-9bd865cdefe5': Data(x=[2048, 4], edge_index=[2, 32768], y=[1], bbox_features=[7]), 'd764d6c8-ed9e-4258-bbe7-78f0a3d195c1': Data(x=[2048, 4], edge_index=[2, 32768], y=[1], bbox_features=[7]), 'a62111b4-b76f-4e42-9684-3ac8af3a9423': Data(x=[2048, 4], edge_index=[2, 32768], y=[1], bbox_features=[7]), '9981a370-8325-4592-877e-5fd2f9593e8d': Data(x=[2048, 4], edge_index=[2, 32768], y=[1], bbox_features=[7]), '39e5e976-1466-4452-a0ff-c1d36ff6cefd': Data(x=[2048, 4], edge_index=[2, 32768], y=[1], bbox_features=[7]), '5cd0b4ee-06a2-4649-b118-934b6c7c10ca': Data(x=[2048, 4], edge_index=[2, 32768], y=[1], bbox_features=[7]), '3957c729-3d14-4d21-825e-a13047ab7bc8': Data(x=[2048, 4], edge_index=[2, 32768], y=[1], bbox_features=[7])}\n"
     ]
    }
   ],
   "source": [
    "print(graph_dict)"
   ]
  },
  {
   "cell_type": "code",
   "execution_count": 11,
   "id": "a52ef3a1-0387-40ea-a98d-f7512c51e5c9",
   "metadata": {},
   "outputs": [],
   "source": [
    "train_data_objs = {}\n",
    "val_data_objs = {}\n",
    "test_data_objs = {}\n",
    "\n",
    "for key in X_train[\"ID\"]:\n",
    "\n",
    "    train_data_objs[key] = graph_dict[key]\n",
    "\n",
    "for key in X_val[\"ID\"]:\n",
    "\n",
    "    val_data_objs[key] = graph_dict[key]\n",
    "\n",
    "for key in X_test[\"ID\"]:\n",
    "\n",
    "    test_data_objs[key] = graph_dict[key]"
   ]
  },
  {
   "cell_type": "code",
   "execution_count": 12,
   "id": "8b862bf4-7b03-4835-a63a-d70e1394ebdf",
   "metadata": {},
   "outputs": [],
   "source": [
    "train_data_arr = []\n",
    "\n",
    "for key in train_data_objs.keys():\n",
    "\n",
    "    train_data_arr.append(train_data_objs[key])"
   ]
  },
  {
   "cell_type": "code",
   "execution_count": 13,
   "id": "de7449d6-918b-4b91-b229-c71d82806133",
   "metadata": {},
   "outputs": [],
   "source": [
    "class PointCloudWithBoundingBoxModel(torch.nn.Module):\n",
    "    def __init__(self, k=16, num_classes=4, bbox_input_size=7):\n",
    "        super(PointCloudWithBoundingBoxModel, self).__init__()\n",
    "        self.k = k\n",
    "\n",
    "        # GNN for Point Cloud Data\n",
    "        self.conv1 = DynamicEdgeConv(torch.nn.Sequential(\n",
    "            torch.nn.Linear(4 * 2, 32),  # 4 features (x, y, z, intensity) * 2\n",
    "            torch.nn.ReLU(),\n",
    "            torch.nn.Linear(32, 32)\n",
    "        ), k=self.k)\n",
    "\n",
    "        self.conv2 = DynamicEdgeConv(torch.nn.Sequential(\n",
    "            torch.nn.Linear(32 * 2, 128),\n",
    "            torch.nn.ReLU(),\n",
    "            torch.nn.Linear(128, 128)\n",
    "        ), k=self.k)\n",
    "\n",
    "        self.conv3 = DynamicEdgeConv(torch.nn.Sequential(\n",
    "            torch.nn.Linear(128 * 2, 256),\n",
    "            torch.nn.ReLU(),\n",
    "            torch.nn.Linear(256, 256)\n",
    "        ), k=self.k)\n",
    "\n",
    "        # Fully Connected Layers for Bounding Box Features\n",
    "        self.fc_bbox = torch.nn.Sequential(\n",
    "            torch.nn.Linear(bbox_input_size, 32),\n",
    "            torch.nn.ReLU(),\n",
    "            torch.nn.Linear(32, 128)\n",
    "        )\n",
    "\n",
    "        # Fully Connected Layers for the combined output\n",
    "        self.fc_final = torch.nn.Sequential(\n",
    "            torch.nn.Linear(256 + 128, 512),  # 256 from point cloud GNN, 128 from bbox features\n",
    "            torch.nn.ReLU(),\n",
    "            torch.nn.Dropout(0.3),\n",
    "            torch.nn.Linear(512, num_classes)\n",
    "        )\n",
    "\n",
    "    def forward(self, data):\n",
    "        x, batch = data.x, data.batch\n",
    "        x = self.conv1(x, batch)\n",
    "        x = self.conv2(x, batch)\n",
    "        x = self.conv3(x, batch)\n",
    "        x = global_max_pool(x, batch)\n",
    "\n",
    "        bbox_features = data.bbox_features\n",
    "        bbox_out = self.fc_bbox(bbox_features)\n",
    "\n",
    "        x = torch.cat([x, bbox_out], dim=1)\n",
    "        x = self.fc_final(x)\n",
    "\n",
    "        return x  # Remove log_softmax; use CrossEntropyLoss directly\n"
   ]
  },
  {
   "cell_type": "code",
   "execution_count": 14,
   "id": "da3d6d53-69ee-4db6-98c4-fb1f8a8bdd46",
   "metadata": {},
   "outputs": [
    {
     "name": "stderr",
     "output_type": "stream",
     "text": [
      "/home/ubuntu/.local/lib/python3.9/site-packages/torch_geometric/deprecation.py:26: UserWarning: 'data.DataLoader' is deprecated, use 'loader.DataLoader' instead\n",
      "  warnings.warn(out)\n"
     ]
    }
   ],
   "source": [
    "batch_size = 32  # Adjust based on your resources\n",
    "data_loader = DataLoader(train_data_arr, batch_size=batch_size, shuffle=True)"
   ]
  },
  {
   "cell_type": "code",
   "execution_count": 20,
   "id": "721a8384-aaa0-465f-a801-cdfdd6753c96",
   "metadata": {},
   "outputs": [],
   "source": [
    "model = PointCloudWithBoundingBoxModel()"
   ]
  },
  {
   "cell_type": "code",
   "execution_count": 15,
   "id": "35ea3adb-f41f-469e-b6e2-1e9154c5ceb0",
   "metadata": {},
   "outputs": [
    {
     "name": "stdout",
     "output_type": "stream",
     "text": [
      "torch.Size([224])\n",
      "torch.Size([224])\n",
      "torch.Size([224])\n",
      "torch.Size([224])\n",
      "torch.Size([224])\n",
      "torch.Size([224])\n",
      "torch.Size([224])\n",
      "torch.Size([224])\n",
      "torch.Size([98])\n"
     ]
    }
   ],
   "source": [
    "for data in data_loader:\n",
    "    print(data.bbox_features.shape)"
   ]
  },
  {
   "cell_type": "code",
   "execution_count": null,
   "id": "9b7c0b42-a349-4a0e-b996-5de56533f4a7",
   "metadata": {},
   "outputs": [],
   "source": [
    "for data in data_loader:\n",
    "    out = model(data)"
   ]
  }
 ],
 "metadata": {
  "kernelspec": {
   "display_name": "Python 3 (ipykernel)",
   "language": "python",
   "name": "python3"
  },
  "language_info": {
   "codemirror_mode": {
    "name": "ipython",
    "version": 3
   },
   "file_extension": ".py",
   "mimetype": "text/x-python",
   "name": "python",
   "nbconvert_exporter": "python",
   "pygments_lexer": "ipython3",
   "version": "3.9.20"
  }
 },
 "nbformat": 4,
 "nbformat_minor": 5
}
