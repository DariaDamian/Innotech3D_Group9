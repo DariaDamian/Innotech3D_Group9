{
 "cells": [
  {
   "cell_type": "markdown",
   "id": "aaa024b3",
   "metadata": {},
   "source": [
    "### Imports"
   ]
  },
  {
   "cell_type": "code",
   "execution_count": 19,
   "id": "5399755c",
   "metadata": {},
   "outputs": [],
   "source": [
    "import open3d as o3d\n",
    "from o3d_tools.visualize import PointCloudProject\n",
    "import numpy as np\n",
    "import pandas as pd\n",
    "from sklearn.model_selection import train_test_split\n",
    "import matplotlib.pyplot as plt"
   ]
  },
  {
   "cell_type": "markdown",
   "id": "8471df38",
   "metadata": {},
   "source": [
    "### Load data as point cloud objects"
   ]
  },
  {
   "cell_type": "code",
   "execution_count": 2,
   "id": "84738e44",
   "metadata": {},
   "outputs": [],
   "source": [
    "project1 = PointCloudProject(project='Project1') ; project2 = PointCloudProject(project='Project2')\n",
    "project3 = PointCloudProject(project='Project3') ; project4 = PointCloudProject(project='Project4')"
   ]
  },
  {
   "cell_type": "markdown",
   "id": "657b2461",
   "metadata": {},
   "source": [
    "### Extract bounding box data\n",
    "**And check which types of objects (pipes etc.) are in each of the 4 projects**"
   ]
  },
  {
   "cell_type": "code",
   "execution_count": 3,
   "id": "14605e3f",
   "metadata": {},
   "outputs": [
    {
     "name": "stdout",
     "output_type": "stream",
     "text": [
      "Types of objects in Project 1: ['Structural_ColumnBeam', 'HVAC_Duct', 'Pipe', 'Structural_IBeam']\n",
      "Types of objects in Project 2: ['Structural_ColumnBeam', 'Pipe', 'Structural_IBeam']\n",
      "Types of objects in Project 3: ['Structural_ColumnBeam']\n",
      "Types of objects in Project 4: ['Structural_IBeam']\n"
     ]
    }
   ],
   "source": [
    "objs1 = project1.objects_df\n",
    "\n",
    "print(f\"Types of objects in Project 1: {list(objs1.keys())}\")\n",
    "pipes1 = objs1[\"Pipe\"]\n",
    "scbs1 = objs1[\"Structural_ColumnBeam\"]\n",
    "sibs1 = objs1[\"Structural_IBeam\"]\n",
    "hvducts = objs1[\"HVAC_Duct\"]\n",
    "\n",
    "objs2 = project2.objects_df\n",
    "\n",
    "print(f\"Types of objects in Project 2: {list(objs2.keys())}\")\n",
    "pipes2 = objs2[\"Pipe\"]\n",
    "scbs2 = objs2[\"Structural_ColumnBeam\"]\n",
    "sibs2 = objs2[\"Structural_IBeam\"]\n",
    "\n",
    "objs3 = project3.objects_df\n",
    "\n",
    "print(f\"Types of objects in Project 3: {list(objs3.keys())}\")\n",
    "scbs3 = objs3[\"Structural_ColumnBeam\"]\n",
    "\n",
    "objs4 = project4.objects_df\n",
    "\n",
    "print(f\"Types of objects in Project 4: {list(objs4.keys())}\")\n",
    "sibs4 = objs4[\"Structural_IBeam\"]"
   ]
  },
  {
   "cell_type": "markdown",
   "id": "81f3bfe9",
   "metadata": {},
   "source": [
    "### Join bounding box data\n",
    "**Currently we have bounding box data grouped by different object types and by projects, merge all this bounding box data into a single dataframe**"
   ]
  },
  {
   "cell_type": "code",
   "execution_count": 4,
   "id": "a5a08196",
   "metadata": {},
   "outputs": [],
   "source": [
    "boxes1 = pd.concat([scbs1, hvducts, pipes1, sibs1])\n",
    "boxes2 = pd.concat([scbs2, pipes2, sibs2])\n",
    "boxes3 = scbs3\n",
    "boxes4 = sibs4\n",
    "\n",
    "boxes = [boxes1, boxes2, boxes3, boxes4]\n",
    "\n",
    "for i in range(len(boxes)):\n",
    "    boxes[i].rename(columns={\" Label\": \"label\", \" BB.Min.X \" : \"min_x\", \" BB.Min.Y \" : \"min_y\", \" BB.Min.Z \" : \"min_z\",\n",
    "                         \" BB.Max.X \" : \"max_x\", \" BB.Max.Y \" : \"max_y\", \" BB.Max.Z\" : \"max_z\"}, inplace=True)\n",
    "    \n",
    "box_data = pd.concat(boxes)"
   ]
  },
  {
   "cell_type": "code",
   "execution_count": 5,
   "id": "5e615b64",
   "metadata": {},
   "outputs": [
    {
     "data": {
      "text/html": [
       "<div>\n",
       "<style scoped>\n",
       "    .dataframe tbody tr th:only-of-type {\n",
       "        vertical-align: middle;\n",
       "    }\n",
       "\n",
       "    .dataframe tbody tr th {\n",
       "        vertical-align: top;\n",
       "    }\n",
       "\n",
       "    .dataframe thead th {\n",
       "        text-align: right;\n",
       "    }\n",
       "</style>\n",
       "<table border=\"1\" class=\"dataframe\">\n",
       "  <thead>\n",
       "    <tr style=\"text-align: right;\">\n",
       "      <th></th>\n",
       "      <th>ID</th>\n",
       "      <th>label</th>\n",
       "      <th>min_x</th>\n",
       "      <th>min_y</th>\n",
       "      <th>min_z</th>\n",
       "      <th>max_x</th>\n",
       "      <th>max_y</th>\n",
       "      <th>max_z</th>\n",
       "    </tr>\n",
       "  </thead>\n",
       "  <tbody>\n",
       "    <tr>\n",
       "      <th>0</th>\n",
       "      <td>d442ca7c-770d-4bc2-a565-81b971e1b3b3</td>\n",
       "      <td>Structural_ColumnBeam</td>\n",
       "      <td>-221.953285</td>\n",
       "      <td>334.091068</td>\n",
       "      <td>83.833336</td>\n",
       "      <td>-219.536613</td>\n",
       "      <td>336.507724</td>\n",
       "      <td>98.874596</td>\n",
       "    </tr>\n",
       "    <tr>\n",
       "      <th>1</th>\n",
       "      <td>de9a038a-e106-48fa-ac76-3f83dfa1503a</td>\n",
       "      <td>Structural_ColumnBeam</td>\n",
       "      <td>-221.953285</td>\n",
       "      <td>315.091068</td>\n",
       "      <td>83.833336</td>\n",
       "      <td>-219.536613</td>\n",
       "      <td>317.507724</td>\n",
       "      <td>98.874611</td>\n",
       "    </tr>\n",
       "    <tr>\n",
       "      <th>2</th>\n",
       "      <td>b351dae6-0cf2-45f2-bbfd-ab9e607bce0d</td>\n",
       "      <td>HVAC_Duct</td>\n",
       "      <td>-206.833503</td>\n",
       "      <td>337.267214</td>\n",
       "      <td>95.083333</td>\n",
       "      <td>-203.333503</td>\n",
       "      <td>341.100548</td>\n",
       "      <td>98.250000</td>\n",
       "    </tr>\n",
       "    <tr>\n",
       "      <th>3</th>\n",
       "      <td>62e75328-ddda-48d4-87c4-210afb055eb5</td>\n",
       "      <td>HVAC_Duct</td>\n",
       "      <td>-204.791837</td>\n",
       "      <td>332.154501</td>\n",
       "      <td>94.708333</td>\n",
       "      <td>-200.041837</td>\n",
       "      <td>338.154501</td>\n",
       "      <td>98.625000</td>\n",
       "    </tr>\n",
       "    <tr>\n",
       "      <th>4</th>\n",
       "      <td>64ca25ff-ebc8-4e83-9585-756d6b711a3c</td>\n",
       "      <td>HVAC_Duct</td>\n",
       "      <td>-204.791837</td>\n",
       "      <td>327.477417</td>\n",
       "      <td>94.708333</td>\n",
       "      <td>-200.041837</td>\n",
       "      <td>334.144084</td>\n",
       "      <td>98.625000</td>\n",
       "    </tr>\n",
       "  </tbody>\n",
       "</table>\n",
       "</div>"
      ],
      "text/plain": [
       "                                     ID                  label       min_x  \\\n",
       "0  d442ca7c-770d-4bc2-a565-81b971e1b3b3  Structural_ColumnBeam -221.953285   \n",
       "1  de9a038a-e106-48fa-ac76-3f83dfa1503a  Structural_ColumnBeam -221.953285   \n",
       "2  b351dae6-0cf2-45f2-bbfd-ab9e607bce0d              HVAC_Duct -206.833503   \n",
       "3  62e75328-ddda-48d4-87c4-210afb055eb5              HVAC_Duct -204.791837   \n",
       "4  64ca25ff-ebc8-4e83-9585-756d6b711a3c              HVAC_Duct -204.791837   \n",
       "\n",
       "        min_y      min_z       max_x       max_y      max_z  \n",
       "0  334.091068  83.833336 -219.536613  336.507724  98.874596  \n",
       "1  315.091068  83.833336 -219.536613  317.507724  98.874611  \n",
       "2  337.267214  95.083333 -203.333503  341.100548  98.250000  \n",
       "3  332.154501  94.708333 -200.041837  338.154501  98.625000  \n",
       "4  327.477417  94.708333 -200.041837  334.144084  98.625000  "
      ]
     },
     "execution_count": 5,
     "metadata": {},
     "output_type": "execute_result"
    }
   ],
   "source": [
    "box_data.head()"
   ]
  },
  {
   "cell_type": "markdown",
   "id": "5ad39419",
   "metadata": {},
   "source": [
    "### Map bounding boxes to their corresponding points\n",
    "**Create a dictionary that maps object ids to the points that make up these objects using PointCloudProject.pcd.crop() method**"
   ]
  },
  {
   "cell_type": "code",
   "execution_count": 45,
   "id": "216390d6",
   "metadata": {},
   "outputs": [],
   "source": [
    "ids_to_points = {}\n",
    "\n",
    "projects = [project1, project2, project3, project4]\n",
    "\n",
    "for proj_id, box in enumerate(boxes):\n",
    "    \n",
    "    for i, ID in enumerate(box[\"ID\"]):\n",
    "        \n",
    "        proj = projects[proj_id]\n",
    "        \n",
    "        # .pcd.crop() method expects this bounding box object, create it from the raw min max values\n",
    "        bb = o3d.geometry.AxisAlignedBoundingBox((box[[\"min_x\", \"min_y\", \"min_z\"]].iloc[i]).to_numpy(), \n",
    "                                    (box[[\"max_x\", \"max_y\", \"max_z\"]].iloc[i]).to_numpy())\n",
    "        \n",
    "        points_of_id = proj.pcd.crop(bb)\n",
    "        \n",
    "        # convert the pointcloud object into a numpy array\n",
    "        # join coordinates and color data into a single 6d nparray for each point\n",
    "            \n",
    "        points_coords = np.asarray(points_of_id.points)\n",
    "        \n",
    "        tmp = np.asarray(points_of_id.colors)[:,0]\n",
    "        \n",
    "        points_colors = (np.asarray(points_of_id.colors)[:,0]).reshape(-1,1)\n",
    "        \n",
    "        points_arr = np.concatenate((points_coords, points_colors), axis = 1)\n",
    "        \n",
    "        ids_to_points[ID] = points_arr\n",
    "        "
   ]
  },
  {
   "cell_type": "code",
   "execution_count": 39,
   "id": "99b1dcb9",
   "metadata": {},
   "outputs": [
    {
     "data": {
      "text/plain": [
       "array([-2.20789548e+02,  3.36146713e+02,  9.82472226e+01,  1.95312500e-01])"
      ]
     },
     "execution_count": 39,
     "metadata": {},
     "output_type": "execute_result"
    }
   ],
   "source": [
    "ids_to_points['d442ca7c-770d-4bc2-a565-81b971e1b3b3'][0]"
   ]
  },
  {
   "cell_type": "markdown",
   "id": "f88bb5f0",
   "metadata": {},
   "source": [
    "### Check min and max number of data points which correspond to an object"
   ]
  },
  {
   "cell_type": "code",
   "execution_count": 18,
   "id": "87f56f89",
   "metadata": {},
   "outputs": [
    {
     "name": "stdout",
     "output_type": "stream",
     "text": [
      "318284\n",
      "206\n",
      "0\n"
     ]
    }
   ],
   "source": [
    "sizes = []\n",
    "\n",
    "for obj_id in ids_to_points.keys():\n",
    "    \n",
    "    pc_size = ids_to_points[obj_id].shape[0]\n",
    "    sizes.append(pc_size)\n",
    "\n",
    "print(max(sizes))\n",
    "print(min(sizes))\n",
    "print(len(size_0))"
   ]
  },
  {
   "cell_type": "markdown",
   "id": "763b2942",
   "metadata": {},
   "source": [
    "### EDA"
   ]
  },
  {
   "cell_type": "code",
   "execution_count": 22,
   "id": "a6560e44",
   "metadata": {},
   "outputs": [
    {
     "data": {
      "image/png": "[encoded data removed]",
      "text/plain": [
       "<Figure size 640x480 with 1 Axes>"
      ]
     },
     "metadata": {},
     "output_type": "display_data"
    }
   ],
   "source": [
    "plt.hist(sizes)\n",
    "plt.title(\"No. of points in objs frequencies\");"
   ]
  },
  {
   "cell_type": "code",
   "execution_count": 24,
   "id": "216e6dab",
   "metadata": {},
   "outputs": [
    {
     "data": {
      "image/png": "[encoded data removed]",
      "text/plain": [
       "<Figure size 640x480 with 1 Axes>"
      ]
     },
     "metadata": {},
     "output_type": "display_data"
    }
   ],
   "source": [
    "under_5000 = [x for x in sizes if x < 5000]\n",
    "plt.hist(under_5000)\n",
    "plt.title(\"No. of points in objs frequencies\");"
   ]
  },
  {
   "cell_type": "code",
   "execution_count": 26,
   "id": "5931eaec",
   "metadata": {},
   "outputs": [
    {
     "name": "stdout",
     "output_type": "stream",
     "text": [
      "137\n",
      "0.30444444444444446\n"
     ]
    }
   ],
   "source": [
    "no_under_5000 = len(under_5000)\n",
    "print(no_under_5000)\n",
    "print(no_under_5000 / len(sizes))"
   ]
  },
  {
   "cell_type": "markdown",
   "id": "fef9dccb",
   "metadata": {},
   "source": [
    "### Color preprocessing"
   ]
  },
  {
   "cell_type": "markdown",
   "id": "11654d69",
   "metadata": {},
   "source": [
    "### Uniform sampling\n",
    "**If number of data points is smaller than a fixed number upsample, if it's bigger downsample**"
   ]
  },
  {
   "cell_type": "code",
   "execution_count": 27,
   "id": "66c78662",
   "metadata": {},
   "outputs": [],
   "source": [
    "def sample_point_cloud(points, num_points):\n",
    "\n",
    "    if points.shape[0] > num_points:\n",
    "        \n",
    "        # Downsample if the point cloud has more points than needed\n",
    "        idx = np.random.choice(points.shape[0], num_points, replace=False)\n",
    "        return points[idx, :]\n",
    "    \n",
    "    elif points.shape[0] < num_points:\n",
    "        # Upsample by repeating random points if the point cloud has fewer points than needed\n",
    "        idx = np.random.choice(points.shape[0], num_points - points.shape[0], replace=True)\n",
    "        return np.concatenate([points, points[idx, :]], axis=0)\n",
    "    \n",
    "    else:\n",
    "        # Return the point cloud as is if it already has the correct number of points\n",
    "        return points\n"
   ]
  },
  {
   "cell_type": "code",
   "execution_count": 48,
   "id": "c69edca3",
   "metadata": {},
   "outputs": [],
   "source": [
    "fixed_num_points = 2048  # The fixed number of points for all point clouds\n",
    "\n",
    "point_clouds_resampled = {}\n",
    "\n",
    "for obj_id in ids_to_points.keys():\n",
    "    \n",
    "    point_cloud = ids_to_points[obj_id]\n",
    "    resampled_points = sample_point_cloud(point_cloud, fixed_num_points)\n",
    "    point_clouds_resampled[obj_id] = resampled_points\n",
    "\n",
    "# Convert the list into a numpy array (batch_size x num_points x 3)\n",
    "#point_clouds_resampled = np.array(point_clouds_resampled)"
   ]
  },
  {
   "cell_type": "code",
   "execution_count": 53,
   "id": "59011ea1",
   "metadata": {},
   "outputs": [],
   "source": [
    "for obj_id in ids_to_points.keys():\n",
    "    \n",
    "    assert point_clouds_resampled[obj_id].shape == (2048, 4)"
   ]
  },
  {
   "cell_type": "code",
   "execution_count": 52,
   "id": "c12bd83f",
   "metadata": {},
   "outputs": [
    {
     "data": {
      "text/plain": [
       "(2048, 4)"
      ]
     },
     "execution_count": 52,
     "metadata": {},
     "output_type": "execute_result"
    }
   ],
   "source": [
    "point_clouds_resampled['d442ca7c-770d-4bc2-a565-81b971e1b3b3'].shape"
   ]
  },
  {
   "cell_type": "markdown",
   "id": "5d2d49b3",
   "metadata": {},
   "source": [
    "### Split data into train, validation and test set\n",
    "**Using a 60 20 20 split**"
   ]
  },
  {
   "cell_type": "code",
   "execution_count": 17,
   "id": "371decff",
   "metadata": {},
   "outputs": [],
   "source": [
    "y = box_data[\"label\"]\n",
    "X = box_data[[\"ID\", \"min_x\", \"min_y\", \"min_z\", \"max_x\", \"max_y\", \"max_z\"]]"
   ]
  },
  {
   "cell_type": "code",
   "execution_count": 18,
   "id": "846bf5db",
   "metadata": {},
   "outputs": [],
   "source": [
    "X_train, X_temp, y_train, y_temp = train_test_split(X, y, test_size=0.4, stratify=y, random_state=42)\n",
    "X_val, X_test, y_val, y_test = train_test_split(X_temp, y_temp, test_size=0.5, stratify=y_temp, random_state=42)"
   ]
  },
  {
   "cell_type": "code",
   "execution_count": 19,
   "id": "9d886572",
   "metadata": {},
   "outputs": [
    {
     "name": "stdout",
     "output_type": "stream",
     "text": [
      "(270, 7)\n",
      "(90, 7)\n",
      "(90, 7)\n",
      "(270,)\n",
      "(90,)\n",
      "(90,)\n"
     ]
    }
   ],
   "source": [
    "print(X_train.shape)\n",
    "print(X_val.shape)\n",
    "print(X_test.shape)\n",
    "\n",
    "print(y_train.shape)\n",
    "print(y_val.shape)\n",
    "print(y_test.shape)"
   ]
  }
 ],
 "metadata": {
  "kernelspec": {
   "display_name": "Python 3 (ipykernel)",
   "language": "python",
   "name": "python3"
  },
  "language_info": {
   "codemirror_mode": {
    "name": "ipython",
    "version": 3
   },
   "file_extension": ".py",
   "mimetype": "text/x-python",
   "name": "python",
   "nbconvert_exporter": "python",
   "pygments_lexer": "ipython3",
   "version": "3.9.18"
  }
 },
 "nbformat": 4,
 "nbformat_minor": 5
}
